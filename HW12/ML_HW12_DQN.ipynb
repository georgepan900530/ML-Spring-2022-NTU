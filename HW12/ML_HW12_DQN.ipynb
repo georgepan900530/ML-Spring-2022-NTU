{
  "cells": [
    {
      "cell_type": "markdown",
      "metadata": {
        "id": "Fp30SB4bxeQb"
      },
      "source": [
        "# **Homework 12 - Reinforcement Learning**\n",
        "\n",
        "If you have any problem, e-mail us at ntu-ml-2022spring-ta@googlegroups.com\n",
        "\n"
      ]
    },
    {
      "cell_type": "markdown",
      "metadata": {
        "id": "yXsnCWPtWSNk"
      },
      "source": [
        "## Preliminary work\n",
        "\n",
        "First, we need to install all necessary packages.\n",
        "One of them, gym, builded by OpenAI, is a toolkit for developing Reinforcement Learning algorithm. Other packages are for visualization in colab."
      ]
    },
    {
      "cell_type": "code",
      "execution_count": null,
      "metadata": {
        "colab": {
          "base_uri": "https://localhost:8080/"
        },
        "id": "5e2bScpnkVbv",
        "outputId": "f4a668b7-f36f-48c3-8cf4-18d2d416975c"
      },
      "outputs": [
        {
          "name": "stdout",
          "output_type": "stream",
          "text": [
            "\u001b[33m\r0% [Working]\u001b[0m\r            \rHit:1 https://developer.download.nvidia.com/compute/cuda/repos/ubuntu1804/x86_64  InRelease\n",
            "\u001b[33m\r0% [Connecting to archive.ubuntu.com (185.125.190.36)] [Connecting to security.\u001b[0m\u001b[33m\r0% [1 InRelease gpgv 1,581 B] [Connecting to archive.ubuntu.com (185.125.190.36\u001b[0m\u001b[33m\r0% [Waiting for headers] [Waiting for headers] [Connecting to cloud.r-project.o\u001b[0m\r                                                                               \rHit:2 http://archive.ubuntu.com/ubuntu bionic InRelease\n",
            "\u001b[33m\r0% [Waiting for headers] [Waiting for headers] [Connecting to cloud.r-project.o\u001b[0m\r                                                                               \rHit:3 http://ppa.launchpad.net/c2d4u.team/c2d4u4.0+/ubuntu bionic InRelease\n",
            "\u001b[33m\r0% [2 InRelease gpgv 242 kB] [Waiting for headers] [Waiting for headers] [Conne\u001b[0m\r                                                                               \rIgn:4 https://developer.download.nvidia.com/compute/machine-learning/repos/ubuntu1804/x86_64  InRelease\n",
            "\u001b[33m\r0% [2 InRelease gpgv 242 kB] [Waiting for headers] [Waiting for headers] [Conne\u001b[0m\r                                                                               \rGet:5 http://security.ubuntu.com/ubuntu bionic-security InRelease [88.7 kB]\n",
            "Hit:6 https://developer.download.nvidia.com/compute/machine-learning/repos/ubuntu1804/x86_64  Release\n",
            "Get:7 http://archive.ubuntu.com/ubuntu bionic-updates InRelease [88.7 kB]\n",
            "Hit:8 https://cloud.r-project.org/bin/linux/ubuntu bionic-cran40/ InRelease\n",
            "Hit:9 http://ppa.launchpad.net/cran/libgit2/ubuntu bionic InRelease\n",
            "Hit:10 http://ppa.launchpad.net/deadsnakes/ppa/ubuntu bionic InRelease\n",
            "Get:11 http://archive.ubuntu.com/ubuntu bionic-backports InRelease [74.6 kB]\n",
            "Hit:12 http://ppa.launchpad.net/graphics-drivers/ppa/ubuntu bionic InRelease\n",
            "Get:14 http://security.ubuntu.com/ubuntu bionic-security/universe amd64 Packages [1,503 kB]\n",
            "Get:15 http://security.ubuntu.com/ubuntu bionic-security/main amd64 Packages [2,765 kB]\n",
            "Fetched 4,520 kB in 2s (2,102 kB/s)\n",
            "Reading package lists... Done\n",
            "Building dependency tree       \n",
            "Reading state information... Done\n",
            "47 packages can be upgraded. Run 'apt list --upgradable' to see them.\n",
            "Reading package lists... Done\n",
            "Building dependency tree       \n",
            "Reading state information... Done\n",
            "python-opengl is already the newest version (3.1.0+dfsg-1).\n",
            "xvfb is already the newest version (2:1.19.6-1ubuntu4.10).\n",
            "The following package was automatically installed and is no longer required:\n",
            "  libnvidia-common-460\n",
            "Use 'apt autoremove' to remove it.\n",
            "0 upgraded, 0 newly installed, 0 to remove and 47 not upgraded.\n",
            "Requirement already satisfied: gym[box2d]==0.18.3 in /usr/local/lib/python3.7/dist-packages (0.18.3)\n",
            "Requirement already satisfied: pyvirtualdisplay in /usr/local/lib/python3.7/dist-packages (3.0)\n",
            "Requirement already satisfied: tqdm in /usr/local/lib/python3.7/dist-packages (4.64.0)\n",
            "Requirement already satisfied: numpy==1.19.5 in /usr/local/lib/python3.7/dist-packages (1.19.5)\n",
            "Requirement already satisfied: torch==1.8.1 in /usr/local/lib/python3.7/dist-packages (1.8.1)\n",
            "Requirement already satisfied: typing-extensions in /usr/local/lib/python3.7/dist-packages (from torch==1.8.1) (4.2.0)\n",
            "Requirement already satisfied: pyglet<=1.5.15,>=1.4.0 in /usr/local/lib/python3.7/dist-packages (from gym[box2d]==0.18.3) (1.5.0)\n",
            "Requirement already satisfied: scipy in /usr/local/lib/python3.7/dist-packages (from gym[box2d]==0.18.3) (1.4.1)\n",
            "Requirement already satisfied: cloudpickle<1.7.0,>=1.2.0 in /usr/local/lib/python3.7/dist-packages (from gym[box2d]==0.18.3) (1.3.0)\n",
            "Requirement already satisfied: Pillow<=8.2.0 in /usr/local/lib/python3.7/dist-packages (from gym[box2d]==0.18.3) (7.1.2)\n",
            "Requirement already satisfied: box2d-py~=2.3.5 in /usr/local/lib/python3.7/dist-packages (from gym[box2d]==0.18.3) (2.3.8)\n",
            "Requirement already satisfied: future in /usr/local/lib/python3.7/dist-packages (from pyglet<=1.5.15,>=1.4.0->gym[box2d]==0.18.3) (0.16.0)\n"
          ]
        }
      ],
      "source": [
        "!apt update\n",
        "!apt install python-opengl xvfb -y\n",
        "!pip install gym[box2d]==0.18.3 pyvirtualdisplay tqdm numpy==1.19.5 torch==1.8.1"
      ]
    },
    {
      "cell_type": "code",
      "execution_count": null,
      "metadata": {
        "colab": {
          "base_uri": "https://localhost:8080/"
        },
        "id": "KxOpSN4qy8Jr",
        "outputId": "1cc83434-09b4-4369-a57b-e5d41e698c5b"
      },
      "outputs": [
        {
          "name": "stdout",
          "output_type": "stream",
          "text": [
            "Drive already mounted at /content/drive; to attempt to forcibly remount, call drive.mount(\"/content/drive\", force_remount=True).\n"
          ]
        }
      ],
      "source": [
        "from google.colab import drive\n",
        "drive.mount('/content/drive')"
      ]
    },
    {
      "cell_type": "markdown",
      "metadata": {
        "id": "M_-i3cdoYsks"
      },
      "source": [
        "\n",
        "Next, set up virtual display，and import all necessaary packages."
      ]
    },
    {
      "cell_type": "code",
      "execution_count": null,
      "metadata": {
        "id": "nl2nREINDLiw"
      },
      "outputs": [],
      "source": [
        "%%capture\n",
        "from pyvirtualdisplay import Display\n",
        "virtual_display = Display(visible=0, size=(1400, 900))\n",
        "virtual_display.start()\n",
        "\n",
        "%matplotlib inline\n",
        "import matplotlib.pyplot as plt\n",
        "\n",
        "from IPython import display\n",
        "\n",
        "import numpy as np\n",
        "import torch\n",
        "import torch.nn as nn\n",
        "import torch.optim as optim\n",
        "import torch.nn.functional as F\n",
        "from torch.distributions import Categorical\n",
        "from tqdm.notebook import tqdm"
      ]
    },
    {
      "cell_type": "markdown",
      "metadata": {
        "id": "CaEJ8BUCpN9P"
      },
      "source": [
        "# Warning ! Do not revise random seed !!!\n",
        "# Your submission on JudgeBoi will not reproduce your result !!!\n",
        "Make your HW result to be reproducible.\n"
      ]
    },
    {
      "cell_type": "code",
      "execution_count": null,
      "metadata": {
        "id": "fV9i8i2YkRbO"
      },
      "outputs": [],
      "source": [
        "seed = 543 # Do not change this\n",
        "def fix(env, seed):\n",
        "  env.seed(seed)\n",
        "  env.action_space.seed(seed)\n",
        "  torch.manual_seed(seed)\n",
        "  torch.cuda.manual_seed(seed)\n",
        "  torch.cuda.manual_seed_all(seed)\n",
        "  np.random.seed(seed)\n",
        "  random.seed(seed)\n",
        "  torch.set_deterministic(True)\n",
        "  torch.backends.cudnn.benchmark = False\n",
        "  torch.backends.cudnn.deterministic = True"
      ]
    },
    {
      "cell_type": "markdown",
      "metadata": {
        "id": "He0XDx6bzjgC"
      },
      "source": [
        "Last, call gym and build an [Lunar Lander](https://gym.openai.com/envs/LunarLander-v2/) environment."
      ]
    },
    {
      "cell_type": "code",
      "execution_count": null,
      "metadata": {
        "id": "N_4-xJcbBt09"
      },
      "outputs": [],
      "source": [
        "%%capture\n",
        "import gym\n",
        "import random\n",
        "env = gym.make('LunarLander-v2')\n",
        "fix(env, seed) # fix the environment Do not revise this !!!"
      ]
    },
    {
      "cell_type": "markdown",
      "metadata": {
        "id": "NrkVvTrvWZ5H"
      },
      "source": [
        "## What Lunar Lander？\n",
        "\n",
        "“LunarLander-v2”is to simulate the situation when the craft lands on the surface of the moon.\n",
        "\n",
        "This task is to enable the craft to land \"safely\" at the pad between the two yellow flags.\n",
        "> Landing pad is always at coordinates (0,0).\n",
        "> Coordinates are the first two numbers in state vector.\n",
        "\n",
        "![](https://gym.openai.com/assets/docs/aeloop-138c89d44114492fd02822303e6b4b07213010bb14ca5856d2d49d6b62d88e53.svg)\n",
        "\n",
        "\"LunarLander-v2\" actually includes \"Agent\" and \"Environment\". \n",
        "\n",
        "In this homework, we will utilize the function `step()` to control the action of \"Agent\". \n",
        "\n",
        "Then `step()` will return the observation/state and reward given by the \"Environment\"."
      ]
    },
    {
      "cell_type": "markdown",
      "metadata": {
        "id": "bIbp82sljvAt"
      },
      "source": [
        "### Observation / State\n",
        "\n",
        "First, we can take a look at what an Observation / State looks like."
      ]
    },
    {
      "cell_type": "code",
      "execution_count": null,
      "metadata": {
        "colab": {
          "base_uri": "https://localhost:8080/"
        },
        "id": "rsXZra3N9R5T",
        "outputId": "49c3184f-8e55-4335-ecbb-5fe8e1ed55e9"
      },
      "outputs": [
        {
          "name": "stdout",
          "output_type": "stream",
          "text": [
            "Box(-inf, inf, (8,), float32)\n"
          ]
        }
      ],
      "source": [
        "print(env.observation_space)"
      ]
    },
    {
      "cell_type": "markdown",
      "metadata": {
        "id": "ezdfoThbAQ49"
      },
      "source": [
        "\n",
        "`Box(8,)`means that observation is an 8-dim vector\n",
        "### Action\n",
        "\n",
        "Actions can be taken by looks like"
      ]
    },
    {
      "cell_type": "code",
      "execution_count": null,
      "metadata": {
        "colab": {
          "base_uri": "https://localhost:8080/"
        },
        "id": "p1k4dIrBAaKi",
        "outputId": "76815622-becb-4d11-e5c8-01292e2f768a"
      },
      "outputs": [
        {
          "name": "stdout",
          "output_type": "stream",
          "text": [
            "Discrete(4)\n"
          ]
        }
      ],
      "source": [
        "print(env.action_space)"
      ]
    },
    {
      "cell_type": "markdown",
      "metadata": {
        "id": "dejXT6PHBrPn"
      },
      "source": [
        "`Discrete(4)` implies that there are four kinds of actions can be taken by agent.\n",
        "- 0 implies the agent will not take any actions\n",
        "- 2 implies the agent will accelerate downward\n",
        "- 1, 3 implies the agent will accelerate left and right\n",
        "\n",
        "Next, we will try to make the agent interact with the environment. \n",
        "Before taking any actions, we recommend to call `reset()` function to reset the environment. Also, this function will return the initial state of the environment."
      ]
    },
    {
      "cell_type": "code",
      "execution_count": null,
      "metadata": {
        "colab": {
          "base_uri": "https://localhost:8080/"
        },
        "id": "pi4OmrmZgnWA",
        "outputId": "0bd3d07c-d8b7-47c7-ee12-28ab5635e11f"
      },
      "outputs": [
        {
          "name": "stdout",
          "output_type": "stream",
          "text": [
            "[ 0.00396109  1.4083536   0.40119505 -0.11407257 -0.00458307 -0.09087662\n",
            "  0.          0.        ]\n"
          ]
        }
      ],
      "source": [
        "initial_state = env.reset()\n",
        "print(initial_state)"
      ]
    },
    {
      "cell_type": "markdown",
      "metadata": {
        "id": "uBx0mEqqgxJ9"
      },
      "source": [
        "Then, we try to get a random action from the agent's action space."
      ]
    },
    {
      "cell_type": "code",
      "execution_count": null,
      "metadata": {
        "colab": {
          "base_uri": "https://localhost:8080/"
        },
        "id": "vxkOEXRKgizt",
        "outputId": "e792dc52-641e-4afe-890d-87f7fd8d27f0"
      },
      "outputs": [
        {
          "name": "stdout",
          "output_type": "stream",
          "text": [
            "0\n"
          ]
        }
      ],
      "source": [
        "random_action = env.action_space.sample()\n",
        "print(random_action)"
      ]
    },
    {
      "cell_type": "markdown",
      "metadata": {
        "id": "mns-bO01g0-J"
      },
      "source": [
        "More, we can utilize `step()` to make agent act according to the randomly-selected `random_action`.\n",
        "The `step()` function will return four values:\n",
        "- observation / state\n",
        "- reward\n",
        "- done (True/ False)\n",
        "- Other information"
      ]
    },
    {
      "cell_type": "code",
      "execution_count": null,
      "metadata": {
        "id": "E_WViSxGgIk9"
      },
      "outputs": [],
      "source": [
        "observation, reward, done, info = env.step(random_action)"
      ]
    },
    {
      "cell_type": "code",
      "execution_count": null,
      "metadata": {
        "colab": {
          "base_uri": "https://localhost:8080/"
        },
        "id": "yK7r126kuCNp",
        "outputId": "17d2764f-e256-41f7-f643-e060048872f1"
      },
      "outputs": [
        {
          "name": "stdout",
          "output_type": "stream",
          "text": [
            "False\n"
          ]
        }
      ],
      "source": [
        "print(done)"
      ]
    },
    {
      "cell_type": "markdown",
      "metadata": {
        "id": "GKdS8vOihxhc"
      },
      "source": [
        "### Reward\n",
        "\n",
        "\n",
        "> Landing pad is always at coordinates (0,0). Coordinates are the first two numbers in state vector. Reward for moving from the top of the screen to landing pad and zero speed is about 100..140 points. If lander moves away from landing pad it loses reward back. Episode finishes if the lander crashes or comes to rest, receiving additional -100 or +100 points. Each leg ground contact is +10. Firing main engine is -0.3 points each frame. Solved is 200 points. "
      ]
    },
    {
      "cell_type": "code",
      "execution_count": null,
      "metadata": {
        "colab": {
          "base_uri": "https://localhost:8080/"
        },
        "id": "vxQNs77hi0_7",
        "outputId": "f7cb822f-7584-4419-b99f-1cdc8313a21e"
      },
      "outputs": [
        {
          "name": "stdout",
          "output_type": "stream",
          "text": [
            "-0.8588900517154912\n"
          ]
        }
      ],
      "source": [
        "print(reward)"
      ]
    },
    {
      "cell_type": "markdown",
      "metadata": {
        "id": "Mhqp6D-XgHpe"
      },
      "source": [
        "### Random Agent\n",
        "In the end, before we start training, we can see whether a random agent can successfully land the moon or not."
      ]
    },
    {
      "cell_type": "code",
      "execution_count": null,
      "metadata": {
        "colab": {
          "base_uri": "https://localhost:8080/",
          "height": 269
        },
        "id": "Y3G0bxoccelv",
        "outputId": "5ebbca50-234a-4046-ba71-284a1fa95351"
      },
      "outputs": [
        {
          "data": {
            "image/png": "[encoded data removed]",
            "text/plain": [
              "<Figure size 432x288 with 1 Axes>"
            ]
          },
          "metadata": {},
          "output_type": "display_data"
        }
      ],
      "source": [
        "env.reset()\n",
        "\n",
        "img = plt.imshow(env.render(mode='rgb_array'))\n",
        "\n",
        "done = False\n",
        "while not done:\n",
        "    action = env.action_space.sample()\n",
        "    observation, reward, done, _ = env.step(action)\n",
        "\n",
        "    img.set_data(env.render(mode='rgb_array'))\n",
        "    display.display(plt.gcf())\n",
        "    display.clear_output(wait=True)"
      ]
    },
    {
      "cell_type": "markdown",
      "metadata": {
        "id": "F5paWqo7tWL2"
      },
      "source": [
        "## Policy Gradient\n",
        "Now, we can build a simple policy network. The network will return one of action in the action space."
      ]
    },
    {
      "cell_type": "code",
      "execution_count": null,
      "metadata": {
        "id": "radSvc2p5CV4"
      },
      "outputs": [],
      "source": [
        "# References of DQN\n",
        "# https://goodboychan.github.io/python/reinforcement_learning/pytorch/udacity/2021/05/07/DQN-LunarLander.html\n",
        "# https://flyyufelix.github.io/2017/10/12/dqn-vs-pg.html"
      ]
    },
    {
      "cell_type": "code",
      "execution_count": null,
      "metadata": {
        "id": "DAbUDpjr0Ij4"
      },
      "outputs": [],
      "source": [
        "BUFFER_SIZE = int(1e5)\n",
        "BATCH_SIZE = 64\n",
        "GAMMA = 0.99\n",
        "TAU = 0.001\n",
        "LR = 0.0001\n",
        "UPDATE_STEP = 4"
      ]
    },
    {
      "cell_type": "code",
      "execution_count": null,
      "metadata": {
        "id": "J8tdmeD-tZew"
      },
      "outputs": [],
      "source": [
        "class QNetwork(nn.Module):\n",
        "    def __init__(self):\n",
        "        super().__init__()\n",
        "        self.seed = torch.manual_seed(seed)\n",
        "        self.fc1 = nn.Linear(8, 64)\n",
        "        self.fc2 = nn.Linear(64, 64)\n",
        "        self.fc3 = nn.Linear(64, 4)\n",
        "        self.relu = nn.ReLU()\n",
        "    def forward(self, state):\n",
        "        hid = self.relu(self.fc1(state))\n",
        "        hid = self.relu(self.fc2(hid))\n",
        "        return self.fc3(hid)"
      ]
    },
    {
      "cell_type": "markdown",
      "metadata": {
        "id": "ynbqJrhIFTC3"
      },
      "source": [
        "Then, we need to build a simple agent. The agent will acts according to the output of the policy network above. There are a few things can be done by agent:\n",
        "- `learn()`：update the policy network from log probabilities and rewards.\n",
        "- `sample()`：After receiving observation from the environment, utilize policy network to tell which action to take. The return values of this function includes action and log probabilities. "
      ]
    },
    {
      "cell_type": "code",
      "execution_count": null,
      "metadata": {
        "id": "cEKE7qSV3vHv"
      },
      "outputs": [],
      "source": [
        "from collections import deque, namedtuple\n",
        "# store previous experience\n",
        "class ReplayBuffer():\n",
        "    def __init__(self, buffer_size, batch_size):\n",
        "        self.action_size = 4\n",
        "        self.memory = deque(maxlen=buffer_size)\n",
        "        self.batch_size = batch_size\n",
        "        self.exp = namedtuple(\"Experience\", field_names=[\"state\", \"action\", \"reward\", \"next_state\", \"done\"])\n",
        "        # self.seed = random.seed(seed)\n",
        "    def add(self, state, action, reward, next_state, done):\n",
        "        new = self.exp(state, action, reward, next_state, done)\n",
        "        self.memory.append(new)\n",
        "    # sample a batch of experience\n",
        "    def sample(self):\n",
        "        exps = random.sample(self.memory, k=self.batch_size)\n",
        "        states = torch.from_numpy(np.vstack([e.state for e in exps if e is not None])).float()\n",
        "        actions = torch.from_numpy(np.vstack([e.action for e in exps if e is not None])).long()\n",
        "        rewards = torch.from_numpy(np.vstack([e.reward for e in exps if e is not None])).float()\n",
        "        next_states = torch.from_numpy(np.vstack([e.next_state for e in exps if e is not None])).float()\n",
        "        dones = torch.from_numpy(np.vstack([e.done for e in exps if e is not None]).astype(np.uint8)).float()\n",
        "        return (states, actions, rewards, next_states, dones)\n",
        "    def __len__(self):\n",
        "        return len(self.memory)"
      ]
    },
    {
      "cell_type": "code",
      "execution_count": null,
      "metadata": {
        "id": "zZo-IxJx286z"
      },
      "outputs": [],
      "source": [
        "from torch.optim.lr_scheduler import StepLR\n",
        "class Agent():\n",
        "    def __init__(self, network):\n",
        "        self.qnetwork_local = network\n",
        "        self.qnetwork_target = network\n",
        "        self.optimizer = optim.RMSprop(self.qnetwork_local.parameters(), lr=LR)\n",
        "\n",
        "        self.memory = ReplayBuffer(BUFFER_SIZE, BATCH_SIZE)\n",
        "        self.time_step = 0\n",
        "        # self.seed = random.seed(seed)\n",
        "    def step(self, state, action, reward, next_state, done):\n",
        "        self.memory.add(state, action, reward, next_state, done)\n",
        "\n",
        "        # learn every UPDATE_STEP time steps\n",
        "        self.time_step = (self.time_step + 1) % UPDATE_STEP\n",
        "        if self.time_step == 0:\n",
        "            if len(self.memory) > BATCH_SIZE:\n",
        "                exp = self.memory.sample()\n",
        "                self.learn(exp, GAMMA)\n",
        "    # produce action\n",
        "    def act(self, state, eps=0, test=False):\n",
        "        state = torch.from_numpy(state).float().unsqueeze(0)\n",
        "        if test:\n",
        "            action_val = self.qnetwork_local(state)\n",
        "            return np.argmax(action_val.data.numpy())\n",
        "        self.qnetwork_local.eval()\n",
        "        with torch.no_grad():\n",
        "            action_val = self.qnetwork_local(state)\n",
        "        self.qnetwork_local.train()\n",
        "        if random.random() > eps:\n",
        "            return np.argmax(action_val.cpu().data.numpy())\n",
        "        else:\n",
        "            return random.choice(np.arange(4))\n",
        "    def learn(self, exps, gamma):\n",
        "        states, actions, rewards, next_states, dones = exps\n",
        "\n",
        "        # produce maximum estimated value of next state\n",
        "        q_targets_next = self.qnetwork_target(next_states).detach().max(1)[0].unsqueeze(1)\n",
        "        q_targets = rewards + gamma * q_targets_next * (1 - dones)\n",
        "        q_expected = self.qnetwork_local(states).gather(1, actions)\n",
        "\n",
        "        loss = F.smooth_l1_loss(q_expected, q_targets)\n",
        "        self.optimizer.zero_grad()\n",
        "        loss.backward()\n",
        "        self.optimizer.step()\n",
        "\n",
        "        # update target network\n",
        "        self.soft_update(self.qnetwork_local, self.qnetwork_target, TAU)\n",
        "    def soft_update(self, local_model, target_model, tau):\n",
        "        # theta_target = tau * theta_local + (1 - tau) * theta_target\n",
        "        for target_param, local_param in zip(target_model.parameters(), local_model.parameters()):\n",
        "            target_param.data.copy_(tau * local_param.data + (1.0 - tau) * target_param.data)"
      ]
    },
    {
      "cell_type": "markdown",
      "metadata": {
        "id": "ehPlnTKyRZf9"
      },
      "source": [
        "Lastly, build a network and agent to start training."
      ]
    },
    {
      "cell_type": "code",
      "execution_count": null,
      "metadata": {
        "id": "GfJIvML-RYjL"
      },
      "outputs": [],
      "source": [
        "network = QNetwork()\n",
        "agent = Agent(network)"
      ]
    },
    {
      "cell_type": "code",
      "execution_count": null,
      "metadata": {
        "id": "JhIXVyfnZJ7P"
      },
      "outputs": [],
      "source": [
        "# agent.qnetwork_local.load_state_dict(torch.load('/content/drive/MyDrive/ML/ML_HW12/checkpoint_best.pth'))"
      ]
    },
    {
      "cell_type": "markdown",
      "metadata": {
        "id": "ouv23glgf5Qt"
      },
      "source": [
        "## Training Agent\n",
        "\n",
        "Now let's start to train our agent.\n",
        "Through taking all the interactions between agent and environment as training data, the policy network can learn from all these attempts,"
      ]
    },
    {
      "cell_type": "code",
      "execution_count": null,
      "metadata": {
        "colab": {
          "background_save": true,
          "base_uri": "https://localhost:8080/",
          "height": 431,
          "referenced_widgets": [
            "90276f4835774047a7d06c14f13df22d",
            "bcbf1f0c07534107b0b6d1c29dd13a9b",
            "9a9fa0fe8f6644c187599617ce802a6e",
            "9097ce52b279459c8c1bc715c5011640",
            "6d57d723e3974775876ada72bcc618a0",
            "b7e6683e5b994aa593db7cbdc4f52982",
            "9cddd3f1dfe647f1b815d4828067077d",
            "53663a494d014aa1bf3d2d62beebdcef",
            "2b9ba2e679d647e4bcb4ce5dce8100b7",
            "fa4c767dbc1f466fb775c4a375f73273",
            "a4330ff85e6a45649000eeb7e9e2f2ae"
          ]
        },
        "id": "oAXHJI9E6fPv",
        "outputId": "ca8ab5f5-2f34-45c4-8fb2-8797a7713926"
      },
      "outputs": [
        {
          "data": {
            "application/vnd.jupyter.widget-view+json": {
              "model_id": "90276f4835774047a7d06c14f13df22d",
              "version_major": 2,
              "version_minor": 0
            },
            "text/plain": [
              "  0%|          | 0/3000 [00:00<?, ?it/s]"
            ]
          },
          "metadata": {},
          "output_type": "display_data"
        },
        {
          "name": "stdout",
          "output_type": "stream",
          "text": [
            "Episode 0\tAverage Score: -235.97\n",
            "Episode 100\tAverage Score: -174.19\n",
            "Episode 200\tAverage Score: -102.96\n",
            "Episode 300\tAverage Score: -17.78\n",
            "Episode 400\tAverage Score: 17.65\n",
            "Episode 500\tAverage Score: 80.48\n",
            "Episode 600\tAverage Score: -31.09\n",
            "Episode 700\tAverage Score: -33.67\n",
            "Episode 800\tAverage Score: 76.87\n",
            "Episode 900\tAverage Score: 71.52\n",
            "Episode 1000\tAverage Score: 68.48\n",
            "Episode 1100\tAverage Score: 92.98\n",
            "Episode 1200\tAverage Score: 127.74\n",
            "Episode 1300\tAverage Score: 150.13\n",
            "Episode 1400\tAverage Score: 116.97\n",
            "Episode 1500\tAverage Score: 120.84\n",
            "Episode 1600\tAverage Score: 144.73\n",
            "Episode 1700\tAverage Score: 124.95\n",
            "Episode 1800\tAverage Score: 143.97\n",
            "Episode 1900\tAverage Score: 145.85\n",
            "Episode 2000\tAverage Score: 106.86\n",
            "Episode 2100\tAverage Score: 129.46\n",
            "Episode 2200\tAverage Score: 124.52\n",
            "Episode 2300\tAverage Score: 145.69\n",
            "Episode 2400\tAverage Score: 181.99\n",
            "Episode 2500\tAverage Score: 201.62\n",
            "Episode 2600\tAverage Score: 206.48\n",
            "Episode 2700\tAverage Score: 209.50\n",
            "Episode 2800\tAverage Score: 171.08\n",
            "Episode 2900\tAverage Score: 200.08\n",
            "Episode 2999\tAverage Score: 206.28"
          ]
        }
      ],
      "source": [
        "total_rewards = []\n",
        "scores_window = deque(maxlen=100)\n",
        "eps = 0.9 # initialize epsilon\n",
        "NUM_EPISODE = 2000\n",
        "MAX_STEP = 1000\n",
        "steps_done = 0\n",
        "for episode in tqdm(range(NUM_EPISODE)):\n",
        "    state = env.reset()\n",
        "    total_reward = 0\n",
        "    for step in range(MAX_STEP):\n",
        "        action = agent.act(state, eps)\n",
        "        next_state, reward, done, _ = env.step(action)\n",
        "        agent.step(state, action, reward, next_state, done)\n",
        "        state = next_state\n",
        "        total_reward += reward\n",
        "        if done:\n",
        "            break\n",
        "    total_rewards.append(total_reward)\n",
        "    scores_window.append(total_reward)\n",
        "    eps = 0.05 + (0.9 - 0.05) * \\\n",
        "        np.exp(-1. * steps_done / 200)\n",
        "    steps_done += 1\n",
        "    print('\\rEpisode {}\\tAverage Score: {:.2f}'.format(episode, np.mean(scores_window)), end=\"\")\n",
        "    if episode % 100 == 0:\n",
        "        print('\\rEpisode {}\\tAverage Score: {:.2f}'.format(episode, np.mean(scores_window)))\n"
      ]
    },
    {
      "cell_type": "code",
      "execution_count": null,
      "metadata": {
        "colab": {
          "background_save": true
        },
        "id": "to0jmjkP_Apc"
      },
      "outputs": [],
      "source": [
        "torch.save(agent.qnetwork_local.state_dict(), '/content/drive/MyDrive/ML/ML_HW12/checkpoint.pth')"
      ]
    },
    {
      "cell_type": "markdown",
      "metadata": {
        "id": "vNb_tuFYhKVK"
      },
      "source": [
        "### Training Result\n",
        "During the training process, we recorded `avg_total_reward`, which represents the average total reward of episodes before updating the policy network.\n",
        "\n",
        "Theoretically, if the agent becomes better, the `avg_total_reward` will increase.\n",
        "The visualization of the training process is shown below:  \n"
      ]
    },
    {
      "cell_type": "code",
      "execution_count": null,
      "metadata": {
        "colab": {
          "background_save": true
        },
        "id": "wZYOI8H10SHN",
        "outputId": "f0e087da-a68f-4cdd-ac59-aa2fc5a47a37"
      },
      "outputs": [
        {
          "data": {
            "image/png": "[encoded data removed]",
            "text/plain": [
              "<Figure size 432x288 with 1 Axes>"
            ]
          },
          "metadata": {},
          "output_type": "display_data"
        }
      ],
      "source": [
        "plt.plot(total_rewards)\n",
        "plt.title(\"Total Rewards\")\n",
        "plt.show()"
      ]
    },
    {
      "cell_type": "markdown",
      "metadata": {
        "id": "u2HaGRVEYGQS"
      },
      "source": [
        "## Testing\n",
        "The testing result will be the average reward of 5 testing"
      ]
    },
    {
      "cell_type": "code",
      "execution_count": null,
      "metadata": {
        "colab": {
          "background_save": true
        },
        "id": "5yFuUKKRYH73",
        "outputId": "1b764ac6-48b4-4852-eac4-3e22d0b06279"
      },
      "outputs": [
        {
          "name": "stderr",
          "output_type": "stream",
          "text": [
            "/usr/local/lib/python3.7/dist-packages/torch/__init__.py:422: UserWarning: torch.set_deterministic is deprecated and will be removed in a future release. Please use torch.use_deterministic_algorithms instead\n",
            "  \"torch.set_deterministic is deprecated and will be removed in a future \"\n"
          ]
        },
        {
          "name": "stdout",
          "output_type": "stream",
          "text": [
            "239.03296492183424\n",
            "184.692746901874\n",
            "253.55025869332968\n",
            "130.28582421540602\n",
            "181.16417865298982\n"
          ]
        },
        {
          "data": {
            "image/png": "[encoded data removed]",
            "text/plain": [
              "<Figure size 432x288 with 1 Axes>"
            ]
          },
          "metadata": {},
          "output_type": "display_data"
        }
      ],
      "source": [
        "fix(env, seed)\n",
        "agent.qnetwork_local.load_state_dict(torch.load('/content/drive/MyDrive/ML/ML_HW12/checkpoint.pth'))\n",
        "agent.qnetwork_local.eval()  # set the network into evaluation mode\n",
        "NUM_OF_TEST = 5 # Do not revise this !!!\n",
        "test_total_reward = []\n",
        "action_list = []\n",
        "for i in range(NUM_OF_TEST):\n",
        "  actions = []\n",
        "  state = env.reset()\n",
        "\n",
        "  img = plt.imshow(env.render(mode='rgb_array'))\n",
        "\n",
        "  total_reward = 0\n",
        "\n",
        "  done = False\n",
        "  while not done:\n",
        "      action = agent.act(state, test=True)\n",
        "      actions.append(action)\n",
        "      state, reward, done, _ = env.step(action)\n",
        "\n",
        "      total_reward += reward\n",
        "\n",
        "      #img.set_data(env.render(mode='rgb_array'))\n",
        "      #display.display(plt.gcf())\n",
        "      #display.clear_output(wait=True)\n",
        "      \n",
        "  print(total_reward)\n",
        "  test_total_reward.append(total_reward)\n",
        "\n",
        "  action_list.append(actions) # save the result of testing \n"
      ]
    },
    {
      "cell_type": "code",
      "execution_count": null,
      "metadata": {
        "colab": {
          "background_save": true
        },
        "id": "Aex7mcKr0J01",
        "outputId": "e099da25-6ab9-4486-c984-6b98879d27a1"
      },
      "outputs": [
        {
          "name": "stdout",
          "output_type": "stream",
          "text": [
            "197.74519467708674\n"
          ]
        }
      ],
      "source": [
        "print(np.mean(test_total_reward))"
      ]
    },
    {
      "cell_type": "markdown",
      "metadata": {
        "id": "leyebGYRpqsF"
      },
      "source": [
        "Action list"
      ]
    },
    {
      "cell_type": "code",
      "execution_count": null,
      "metadata": {
        "colab": {
          "background_save": true
        },
        "id": "hGAH4YWDpp4u",
        "outputId": "e9ade96f-bc37-4c02-9027-46ecb1b97166"
      },
      "outputs": [
        {
          "name": "stdout",
          "output_type": "stream",
          "text": [
            "Action list looks like  [[0, 0, 0, 0, 0, 0, 1, 2, 1, 2, 2, 1, 2, 2, 2, 0, 2, 0, 0, 2, 3, 2, 1, 2, 0, 2, 0, 3, 2, 0, 2, 0, 2, 0, 1, 2, 3, 2, 2, 2, 1, 2, 2, 0, 2, 3, 2, 2, 0, 2, 3, 2, 0, 2, 2, 2, 0, 0, 2, 0, 2, 2, 0, 3, 2, 2, 0, 2, 0, 2, 0, 2, 2, 0, 2, 0, 2, 2, 0, 2, 2, 0, 2, 0, 3, 2, 0, 2, 1, 2, 1, 2, 2, 1, 2, 1, 2, 2, 3, 2, 3, 2, 3, 1, 2, 2, 2, 3, 2, 3, 2, 1, 2, 2, 3, 1, 2, 2, 3, 2, 2, 3, 2, 2, 2, 1, 2, 2, 3, 2, 2, 3, 2, 2, 1, 2, 1, 2, 2, 3, 3, 2, 2, 3, 2, 1, 2, 2, 2, 2, 2, 2, 2, 2, 0, 2, 0, 3, 2, 1, 2, 0, 1, 2, 0, 2, 2, 0, 1, 2, 3, 2, 2, 1, 2, 2, 3, 2, 2, 3, 2, 3, 1, 2, 3, 1, 2, 2, 3, 2, 2, 3, 1, 2, 3, 1, 2, 2, 3, 2, 2, 0, 2, 0, 2, 2, 3, 1, 2, 2, 3, 2, 0, 2, 0, 2, 2, 0, 0, 2, 2, 0, 2, 3, 2, 2, 0, 0, 2, 0, 2, 2, 0, 2, 2, 2, 0, 2, 0, 0, 2, 2, 2, 2, 0, 2, 0, 2, 0, 0, 2, 2, 0, 2, 2, 0, 2, 2, 0, 0, 2, 2, 2, 0, 2, 2, 0, 2, 0, 2, 2, 0, 2, 2, 0, 2, 2, 0, 2, 0, 2, 2, 0, 2, 0, 0, 2, 0, 2, 2, 0, 2, 2, 0, 2, 2, 0, 2, 2, 2, 0, 2, 0, 2, 2, 1, 2, 0, 2, 1, 2, 2, 3, 2, 2, 3, 3, 3, 3, 2, 3, 3, 3, 3, 3, 3, 0, 0, 0, 0, 0, 0, 0, 0, 0, 0, 3, 0, 0, 0, 0, 0, 0, 0, 0, 0, 0, 0, 0, 0, 0, 0, 0, 0, 0, 0, 0, 0, 0, 0, 0, 0, 0, 0, 0, 0, 0, 0, 0, 0, 0, 0], [0, 0, 0, 0, 0, 0, 0, 0, 0, 0, 0, 0, 0, 0, 0, 0, 3, 3, 3, 3, 3, 0, 1, 2, 1, 2, 0, 2, 0, 2, 0, 1, 2, 0, 2, 0, 2, 0, 2, 1, 2, 0, 2, 3, 2, 2, 2, 3, 2, 2, 2, 3, 2, 2, 2, 0, 1, 2, 2, 0, 2, 1, 2, 2, 2, 2, 2, 2, 3, 2, 2, 2, 0, 3, 2, 0, 2, 2, 0, 2, 0, 1, 2, 0, 2, 0, 2, 0, 2, 2, 2, 2, 0, 2, 0, 2, 0, 2, 0, 2, 2, 0, 2, 3, 2, 0, 2, 1, 2, 0, 3, 2, 1, 2, 3, 2, 2, 1, 2, 3, 1, 2, 2, 2, 0, 3, 2, 1, 2, 2, 3, 2, 0, 2, 1, 2, 2, 3, 2, 2, 0, 3, 2, 1, 2, 0, 1, 2, 3, 2, 1, 2, 2, 3, 2, 3, 2, 1, 2, 3, 1, 2, 2, 0, 3, 2, 0, 1, 2, 3, 2, 2, 1, 2, 3, 1, 2, 3, 2, 2, 1, 2, 3, 2, 2, 1, 2, 2, 2, 1, 2, 3, 2, 2, 1, 2, 2, 2, 2, 2, 1, 2, 3, 2, 2, 1, 2, 2, 3, 2, 2, 1, 2, 3, 2, 1, 2, 2, 2, 3, 2, 1, 2, 2, 3, 2, 3, 2, 1, 2, 3, 2, 1, 2, 2, 3, 2, 2, 1, 2, 2, 3, 2, 1, 2, 2, 3, 2, 1, 2, 3, 1, 2, 1, 2, 3, 2, 1, 2, 2, 2, 3, 2, 2, 1, 2, 2, 2, 3, 2, 3, 1, 2, 2, 1, 2, 3, 2, 1, 2, 2, 3, 2, 2, 2, 1, 2, 2, 3, 2, 2, 1, 2, 3, 2, 3, 1, 2, 3, 2, 1, 2, 2, 2, 3, 1, 2, 3, 2, 2, 2, 2, 3, 1, 2, 2, 3, 2, 1, 2, 2, 3, 2, 2, 2, 1, 2, 2, 3, 3, 2, 1, 2, 2, 2, 3, 1, 2, 3, 2, 1, 2, 3, 2, 2, 1, 2, 2, 3, 2, 2, 3, 1, 2, 2, 2, 2, 1, 2, 2, 3, 2, 2, 1, 2, 2, 3, 2, 1, 2, 2, 3, 1, 2, 3, 2, 2, 2, 1, 2, 3, 1, 2, 2, 3, 3, 2, 1, 2, 2, 0, 2, 2, 1, 2, 2, 2, 1, 2, 0, 2, 0, 0, 2, 1, 2, 0, 1, 2, 3, 2, 2, 2, 2, 2, 2, 3, 2, 3, 2, 2, 3, 2, 2, 2, 0, 0, 1, 2, 2, 3, 1, 2, 1, 2, 3, 2, 1, 2, 2, 3, 1, 2, 3, 1, 2, 2, 3, 2, 1, 2, 3, 2, 2, 1, 2, 3, 2, 2, 2, 1, 2, 0, 2, 0, 2, 1, 2, 3, 2, 2, 2, 0, 2, 0, 1, 2, 3, 2, 2, 1, 2, 3, 2, 3, 2, 1, 2, 3, 2, 1, 2, 2, 2, 3, 2, 2, 2, 2, 2, 0, 1, 2, 2, 0, 2, 2, 0, 2, 3, 1, 2, 3, 2, 2, 1, 2, 3, 2, 1, 3, 2, 2, 0, 1, 2, 3, 2, 1, 2, 0, 2, 0, 1, 2, 2, 3, 2, 2, 2, 0, 1, 2, 2, 3, 2, 1, 2, 2, 0, 2, 2, 0, 1, 2, 3, 2, 2, 3, 2, 1, 2, 2, 3, 1, 2, 2, 1, 2, 3, 2, 1, 2, 3, 2, 0, 2, 3, 2, 2, 1, 2, 2, 2, 0, 2, 0, 2, 2, 0, 2, 0, 2, 0, 0, 0, 0, 0, 0, 0, 0, 0, 0, 0, 0, 0, 0, 0, 0, 0, 0, 0, 0, 0, 0, 0, 0, 0, 0, 0, 0, 0, 0, 0, 0, 0, 0, 0, 0, 0, 0, 0], [2, 2, 2, 2, 2, 2, 2, 2, 1, 2, 1, 2, 2, 1, 2, 2, 1, 2, 2, 2, 0, 2, 0, 2, 0, 2, 0, 1, 2, 2, 2, 2, 2, 2, 3, 2, 3, 2, 2, 2, 3, 2, 2, 0, 3, 2, 3, 2, 0, 2, 2, 0, 2, 1, 2, 1, 2, 2, 1, 2, 1, 2, 2, 2, 3, 2, 1, 2, 2, 2, 0, 3, 2, 1, 2, 2, 2, 2, 1, 2, 3, 1, 2, 2, 2, 3, 2, 1, 2, 2, 2, 2, 3, 2, 1, 2, 2, 3, 2, 3, 1, 2, 2, 2, 1, 2, 2, 2, 2, 2, 3, 3, 2, 1, 2, 2, 3, 2, 1, 3, 2, 2, 2, 1, 2, 2, 2, 2, 2, 2, 3, 2, 2, 2, 1, 2, 2, 2, 2, 2, 1, 2, 3, 2, 2, 0, 3, 2, 0, 1, 2, 2, 3, 2, 0, 1, 2, 0, 2, 2, 0, 0, 2, 2, 2, 2, 3, 2, 1, 2, 2, 0, 3, 2, 2, 0, 2, 0, 2, 2, 0, 2, 0, 1, 2, 0, 1, 2, 3, 2, 0, 1, 2, 3, 2, 3, 1, 2, 2, 0, 3, 2, 0, 0, 2, 0, 2, 0, 2, 2, 2, 1, 2, 2, 2, 3, 2, 0, 2, 3, 2, 1, 2, 0, 2, 3, 2, 2, 1, 2, 2, 3, 2, 0, 2, 2, 0, 2, 0, 2, 0, 2, 2, 0, 0, 2, 2, 0, 2, 0, 2, 2, 3, 2, 2, 0, 2, 0, 2, 0, 0, 2, 2, 2, 0, 2, 2, 2, 2, 0, 2, 2, 2, 0, 2, 0, 2, 0, 2, 2, 0, 2, 2, 0, 2, 1, 2, 2, 0, 2, 0, 2, 0, 2, 0, 2, 2, 2, 0, 2, 2, 1, 2, 2, 2, 0, 2, 2, 1, 2, 0, 2, 2, 0, 2, 2, 0, 0, 2, 2, 0, 2, 0, 2, 0, 2, 0, 2, 2, 0, 1, 2, 0, 2, 0, 2, 0, 2, 0, 2, 0, 2, 0, 2, 0, 2, 2, 0, 2, 2, 0, 2, 2, 3, 3, 2, 3, 3, 3, 0, 0, 0, 0, 0, 0, 0, 0, 0, 0, 0, 0, 0, 0, 0, 0, 0, 0, 0, 0, 0, 0, 0, 0, 0, 0, 0, 0, 0, 0, 0, 0, 0, 0, 0, 0, 0, 0, 0], [2, 2, 2, 2, 2, 3, 2, 1, 2, 2, 1, 2, 2, 2, 0, 0, 2, 1, 2, 2, 2, 2, 0, 2, 0, 2, 3, 1, 2, 2, 2, 2, 3, 3, 2, 2, 1, 2, 2, 3, 2, 1, 2, 1, 2, 0, 3, 2, 1, 2, 2, 3, 1, 2, 2, 2, 2, 3, 1, 2, 2, 1, 2, 3, 1, 2, 3, 2, 1, 2, 2, 1, 2, 2, 2, 2, 2, 2, 3, 1, 2, 2, 2, 1, 2, 2, 2, 0, 3, 3, 2, 1, 2, 3, 2, 2, 0, 3, 2, 1, 2, 3, 2, 1, 2, 3, 2, 3, 1, 2, 2, 2, 1, 2, 3, 2, 2, 2, 1, 2, 2, 3, 2, 2, 1, 2, 1, 2, 2, 3, 1, 2, 3, 2, 2, 2, 3, 1, 2, 2, 2, 2, 3, 2, 1, 2, 3, 1, 2, 2, 3, 2, 3, 1, 2, 2, 2, 1, 2, 2, 2, 2, 3, 1, 2, 2, 3, 1, 2, 2, 3, 1, 2, 2, 2, 2, 1, 2, 2, 3, 2, 1, 2, 3, 2, 3, 1, 2, 2, 2, 2, 3, 2, 1, 2, 3, 2, 3, 1, 2, 2, 2, 2, 3, 1, 2, 2, 1, 2, 3, 2, 3, 1, 2, 2, 2, 3, 1, 2, 2, 3, 1, 2, 2, 2, 3, 1, 2, 2, 1, 2, 3, 2, 2, 1, 2, 3, 1, 2, 2, 2, 3, 1, 2, 3, 2, 2, 1, 2, 2, 3, 1, 2, 2, 3, 2, 3, 2, 2, 1, 2, 2, 1, 2, 2, 3, 2, 3, 1, 2, 2, 3, 1, 2, 2, 2, 2, 3, 1, 2, 3, 1, 2, 2, 2, 3, 2, 1, 2, 2, 3, 2, 2, 3, 2, 2, 2, 1, 2, 2, 2, 3, 1, 2, 2, 2, 1, 2, 2, 2, 3, 2, 3, 1, 2, 2, 2, 2, 1, 2, 2, 3, 2, 3, 2, 3, 2, 2, 2, 1, 2, 0, 1, 2, 2, 1, 2, 3, 2, 1, 2, 3, 2, 0, 2, 0, 1, 2, 2, 3, 2, 1, 1, 2, 3, 2, 2, 2, 0, 2, 1, 2, 3, 2, 1, 2, 2, 3, 2, 3, 2, 1, 2, 1, 2, 3, 2, 2, 2, 2, 2, 2, 3, 2, 3, 3, 2, 2, 1, 2, 2, 3, 1, 2, 2, 2, 2, 2, 3, 2, 1, 2, 0, 1, 2, 3, 2, 1, 2, 2, 3, 2, 2, 2, 1, 2, 3, 2, 1, 3, 2, 2, 2, 1, 2, 3, 2, 2, 3, 2, 1, 2, 2, 1, 2, 3, 2, 3, 1, 2, 2, 3, 2, 2, 2, 2, 3, 1, 2, 1, 2, 3, 2, 3, 2, 2, 1, 2, 3, 1, 2, 3, 2, 1, 2, 3, 2, 1, 2, 2, 2, 3, 2, 2, 2, 2, 1, 2, 3, 2, 3, 1, 2, 3, 2, 1, 1, 2, 3, 2, 1, 2, 3, 2, 2, 0, 2, 0, 1, 2, 3, 2, 2, 1, 2, 3, 2, 2, 1, 2, 2, 3, 2, 2, 3, 2, 2, 2, 1, 2, 1, 2, 3, 2, 3, 2, 2, 2, 0, 1, 2, 2, 1, 2, 3, 2, 2, 2, 3, 2, 2, 2, 2, 3, 2, 0, 2, 0, 2, 0, 2, 0, 2, 0, 0, 2, 2, 0, 2, 0, 2, 2, 0, 0, 2, 0, 2, 0, 0, 2, 0, 1, 2, 2, 2, 2, 2, 0, 2, 0, 2, 2, 0, 2, 2, 0, 2, 2, 0, 0, 2, 2, 2, 2, 2, 2, 0, 2, 0, 2, 2, 0, 2, 2, 0, 2, 2, 0, 2, 0, 2, 0, 2, 0, 1, 2, 0, 2, 0, 0, 2, 2, 2, 0, 0, 2, 2, 0, 1, 2, 2, 0, 2, 0, 2, 0, 0, 2, 1, 2, 2, 2, 2, 0, 2, 2, 0, 2, 0, 1, 2, 2, 0, 0, 2, 0, 0, 2, 0, 2, 0, 2, 0, 2, 2, 0, 0, 2, 1, 2, 2, 2, 0, 3, 2, 1, 2, 2, 3, 2, 2, 2, 1, 2, 2, 3, 2, 3, 2, 0, 2, 0, 2, 2, 0, 2, 0, 2, 0, 2, 0, 2, 0, 2, 2, 0, 0, 2, 2, 0, 2, 0, 2, 2, 2, 2, 0, 2, 0, 2, 2, 0, 2, 0, 2, 0, 0, 2, 0, 2, 2, 0, 2, 2, 2, 2, 2, 2, 0, 2, 0, 1, 2, 0, 2, 2, 0, 2, 0, 2, 0, 2, 0, 0, 2, 2, 0, 2, 0, 2, 2, 0, 2, 2, 2, 2, 2, 1, 2, 2, 0, 2, 2, 0, 2, 0, 2, 2, 0, 0, 0, 3, 1, 1, 1, 1, 0, 0, 0, 0, 0, 0, 0, 0, 0, 0, 0, 0, 0, 0, 0, 0, 0, 0, 0, 0, 0, 0, 0, 0, 0, 0, 0, 0, 0, 0, 0], [3, 0, 0, 2, 0, 0, 2, 2, 2, 0, 2, 1, 2, 0, 0, 2, 2, 0, 2, 0, 2, 2, 2, 3, 2, 2, 0, 2, 2, 0, 2, 2, 2, 2, 0, 0, 2, 0, 2, 0, 0, 2, 2, 0, 2, 0, 2, 0, 2, 0, 2, 0, 2, 0, 2, 2, 0, 2, 0, 2, 3, 2, 1, 2, 3, 2, 3, 2, 2, 1, 2, 1, 2, 2, 1, 2, 3, 2, 2, 1, 1, 2, 3, 2, 2, 2, 1, 2, 3, 2, 2, 2, 0, 1, 2, 2, 3, 2, 2, 2, 0, 2, 2, 0, 2, 0, 2, 0, 2, 0, 2, 1, 2, 2, 0, 2, 2, 2, 2, 0, 2, 0, 2, 0, 2, 2, 0, 2, 0, 2, 0, 2, 0, 2, 0, 2, 0, 2, 0, 2, 0, 2, 0, 2, 0, 2, 0, 0, 2, 2, 0, 0, 2, 0, 2, 0, 2, 0, 2, 0, 2, 2, 2, 0, 2, 0, 2, 2, 0, 0, 2, 0, 2, 0, 2, 0, 2, 0, 2, 0, 2, 2, 0, 0, 2, 2, 0, 2, 2, 2, 2, 1, 2, 2, 0, 2, 0, 2, 0, 1, 2, 2, 0, 2, 2, 2, 0, 0, 2, 0, 2, 2, 0, 3, 2, 1, 2, 2, 2, 0, 2, 0, 1, 2, 0, 2, 3, 2, 2, 0, 1, 2, 2, 3, 1, 2, 2, 3, 2, 2, 1, 2, 3, 2, 2, 0, 1, 2, 3, 1, 2, 2, 2, 3, 2, 2, 2, 2, 3, 2, 1, 2, 2, 3, 1, 2, 3, 2, 2, 2, 3, 2, 1, 2, 3, 1, 2, 2, 2, 2, 3, 2, 1, 2, 3, 1, 2, 3, 2, 1, 3, 2, 1, 2, 3, 2, 1, 2, 3, 1, 2, 2, 3, 1, 2, 2, 2, 3, 2, 2, 2, 2, 3, 2, 1, 2, 2, 1, 3, 2, 1, 2, 1, 2, 3, 2, 1, 2, 2, 3, 3, 3, 2, 2, 1, 2, 2, 3, 2, 2, 3, 2, 1, 2, 3, 2, 2, 1, 2, 3, 2, 2, 1, 2, 1, 2, 2, 2, 3, 2, 3, 2, 1, 2, 3, 2, 2, 1, 2, 3, 2, 2, 1, 2, 3, 1, 2, 2, 2, 2, 2, 3, 3, 2, 2, 2, 2, 2, 1, 2, 2, 2, 2, 2, 2, 0, 2, 0, 1, 2, 2, 2, 0, 0, 2, 2, 2, 2, 0, 2, 0, 2, 0, 2, 0, 2, 2, 0, 0, 2, 0, 2, 2, 0, 2, 2, 0, 2, 0, 2, 0, 2, 0, 2, 2, 2, 0, 2, 3, 2, 1, 2, 2, 0, 2, 2, 0, 2, 0, 2, 2, 0, 2, 0, 2, 0, 2, 0, 2, 0, 2, 0, 2, 0, 0, 2, 2, 2, 0, 1, 2, 2, 0, 2, 0, 2, 0, 2, 0, 3, 2, 2, 2, 0, 2, 0, 0, 2, 2, 3, 2, 2, 0, 2, 0, 2, 3, 2, 0, 0, 2, 2, 0, 2, 0, 2, 0, 2, 0, 2, 0, 0, 2, 2, 0, 2, 1, 2, 2, 0, 2, 0, 2, 1, 2, 0, 1, 2, 3, 1, 2, 3, 2, 2, 0, 1, 2, 2, 3, 2, 1, 2, 2, 2, 3, 2, 3, 2, 1, 2, 2, 0, 1, 2, 2, 2, 3, 0, 2, 0, 2, 0, 2, 1, 2, 2, 2, 2, 2, 3, 2, 2, 2, 1, 2, 2, 2, 2, 0, 2, 0, 3, 2, 3, 3, 3, 3, 3, 0, 0, 0, 0, 0, 0, 0, 0, 0, 3, 0, 0, 0, 0, 0, 0, 0, 0, 0, 0, 0, 0, 0, 0, 0, 0, 0, 0, 0, 0, 0, 0, 0, 0, 0, 0, 0, 0, 0, 0, 0]]\n",
            "Action list's shape looks like  (5,)\n"
          ]
        },
        {
          "name": "stderr",
          "output_type": "stream",
          "text": [
            "/usr/local/lib/python3.7/dist-packages/numpy/core/_asarray.py:83: VisibleDeprecationWarning: Creating an ndarray from ragged nested sequences (which is a list-or-tuple of lists-or-tuples-or ndarrays with different lengths or shapes) is deprecated. If you meant to do this, you must specify 'dtype=object' when creating the ndarray\n",
            "  return array(a, dtype, copy=False, order=order)\n"
          ]
        }
      ],
      "source": [
        "print(\"Action list looks like \", action_list)\n",
        "print(\"Action list's shape looks like \", np.shape(action_list))"
      ]
    },
    {
      "cell_type": "markdown",
      "metadata": {
        "id": "fNkmwucrHMen"
      },
      "source": [
        "Analysis of actions taken by agent"
      ]
    },
    {
      "cell_type": "code",
      "execution_count": null,
      "metadata": {
        "colab": {
          "background_save": true
        },
        "id": "WHdAItjj1nxw",
        "outputId": "20a873f1-4dda-42a8-ca11-cfe070aa4eef"
      },
      "outputs": [
        {
          "name": "stdout",
          "output_type": "stream",
          "text": [
            "{0: 646, 1: 333, 2: 1515, 3: 354}\n"
          ]
        }
      ],
      "source": [
        "distribution = {}\n",
        "for actions in action_list:\n",
        "  for action in actions:\n",
        "    if action not in distribution.keys():\n",
        "      distribution[action] = 1\n",
        "    else:\n",
        "      distribution[action] += 1\n",
        "print(distribution)"
      ]
    },
    {
      "cell_type": "markdown",
      "metadata": {
        "id": "ricE0schY75M"
      },
      "source": [
        "Saving the result of Model Testing\n"
      ]
    },
    {
      "cell_type": "code",
      "execution_count": null,
      "metadata": {
        "colab": {
          "background_save": true
        },
        "id": "GZsMkGmIY42b",
        "outputId": "52fa4d54-d9af-4ca5-f580-54c17ab77f35"
      },
      "outputs": [
        {
          "name": "stderr",
          "output_type": "stream",
          "text": [
            "/usr/local/lib/python3.7/dist-packages/ipykernel_launcher.py:2: VisibleDeprecationWarning: Creating an ndarray from ragged nested sequences (which is a list-or-tuple of lists-or-tuples-or ndarrays with different lengths or shapes) is deprecated. If you meant to do this, you must specify 'dtype=object' when creating the ndarray\n",
            "  \n"
          ]
        }
      ],
      "source": [
        "PATH = \"/content/drive/MyDrive/ML/ML_HW12/Action_List_DQN.npy\" # Can be modified into the name or path you want\n",
        "np.save(PATH ,np.array(action_list)) "
      ]
    },
    {
      "cell_type": "markdown",
      "metadata": {
        "id": "asK7WfbkaLjt"
      },
      "source": [
        "### This is the file you need to submit !!!\n",
        "Download the testing result to your device\n",
        "\n"
      ]
    },
    {
      "cell_type": "code",
      "execution_count": null,
      "metadata": {
        "colab": {
          "background_save": true
        },
        "id": "c-CqyhHzaWAL",
        "outputId": "47052190-1aca-4480-af2d-43c082992dde"
      },
      "outputs": [
        {
          "data": {
            "application/javascript": [
              "\n",
              "    async function download(id, filename, size) {\n",
              "      if (!google.colab.kernel.accessAllowed) {\n",
              "        return;\n",
              "      }\n",
              "      const div = document.createElement('div');\n",
              "      const label = document.createElement('label');\n",
              "      label.textContent = `Downloading \"${filename}\": `;\n",
              "      div.appendChild(label);\n",
              "      const progress = document.createElement('progress');\n",
              "      progress.max = size;\n",
              "      div.appendChild(progress);\n",
              "      document.body.appendChild(div);\n",
              "\n",
              "      const buffers = [];\n",
              "      let downloaded = 0;\n",
              "\n",
              "      const channel = await google.colab.kernel.comms.open(id);\n",
              "      // Send a message to notify the kernel that we're ready.\n",
              "      channel.send({})\n",
              "\n",
              "      for await (const message of channel.messages) {\n",
              "        // Send a message to notify the kernel that we're ready.\n",
              "        channel.send({})\n",
              "        if (message.buffers) {\n",
              "          for (const buffer of message.buffers) {\n",
              "            buffers.push(buffer);\n",
              "            downloaded += buffer.byteLength;\n",
              "            progress.value = downloaded;\n",
              "          }\n",
              "        }\n",
              "      }\n",
              "      const blob = new Blob(buffers, {type: 'application/binary'});\n",
              "      const a = document.createElement('a');\n",
              "      a.href = window.URL.createObjectURL(blob);\n",
              "      a.download = filename;\n",
              "      div.appendChild(a);\n",
              "      a.click();\n",
              "      div.remove();\n",
              "    }\n",
              "  "
            ],
            "text/plain": [
              "<IPython.core.display.Javascript object>"
            ]
          },
          "metadata": {},
          "output_type": "display_data"
        },
        {
          "data": {
            "application/javascript": [
              "download(\"download_4d7b9e72-ab66-4304-bed1-abe3aef92fdc\", \"Action_List_DQN.npy\", 87982)"
            ],
            "text/plain": [
              "<IPython.core.display.Javascript object>"
            ]
          },
          "metadata": {},
          "output_type": "display_data"
        }
      ],
      "source": [
        "from google.colab import files\n",
        "files.download(PATH)"
      ]
    },
    {
      "cell_type": "markdown",
      "metadata": {
        "id": "seT4NUmWmAZ1"
      },
      "source": [
        "# Server \n",
        "The code below simulate the environment on the judge server. Can be used for testing."
      ]
    },
    {
      "cell_type": "code",
      "execution_count": null,
      "metadata": {
        "colab": {
          "base_uri": "https://localhost:8080/",
          "height": 410
        },
        "id": "U69c-YTxaw6b",
        "outputId": "e468cda2-38df-43a0-8a73-a4ecf091a8b5"
      },
      "outputs": [
        {
          "name": "stderr",
          "output_type": "stream",
          "text": [
            "/usr/local/lib/python3.7/dist-packages/torch/__init__.py:422: UserWarning: torch.set_deterministic is deprecated and will be removed in a future release. Please use torch.use_deterministic_algorithms instead\n",
            "  \"torch.set_deterministic is deprecated and will be removed in a future \"\n"
          ]
        },
        {
          "name": "stdout",
          "output_type": "stream",
          "text": [
            "Your reward is : 227.38\n",
            "Your reward is : 27.89\n",
            "Your reward is : 274.13\n",
            "Your reward is : 240.68\n",
            "Your reward is : 236.13\n"
          ]
        },
        {
          "data": {
            "image/png": "[encoded data removed]",
            "text/plain": [
              "<Figure size 432x288 with 1 Axes>"
            ]
          },
          "metadata": {},
          "output_type": "display_data"
        }
      ],
      "source": [
        "action_list = np.load(PATH,allow_pickle=True) # The action list you upload\n",
        "seed = 543 # Do not revise this\n",
        "fix(env, seed)\n",
        "\n",
        "# agent.network.eval()  # set network to evaluation mode\n",
        "\n",
        "test_total_reward = []\n",
        "if len(action_list) != 5:\n",
        "  print(\"Wrong format of file !!!\")\n",
        "  exit(0)\n",
        "for actions in action_list:\n",
        "  state = env.reset()\n",
        "  img = plt.imshow(env.render(mode='rgb_array'))\n",
        "\n",
        "  total_reward = 0\n",
        "\n",
        "  done = False\n",
        "\n",
        "  for action in actions:\n",
        "  \n",
        "      state, reward, done, _ = env.step(action)\n",
        "      total_reward += reward\n",
        "      if done:\n",
        "        break\n",
        "\n",
        "  print(f\"Your reward is : %.2f\"%total_reward)\n",
        "  test_total_reward.append(total_reward)"
      ]
    },
    {
      "cell_type": "markdown",
      "metadata": {
        "id": "TjFBWwQP1hVe"
      },
      "source": [
        "# Your score"
      ]
    },
    {
      "cell_type": "code",
      "execution_count": null,
      "metadata": {
        "colab": {
          "base_uri": "https://localhost:8080/"
        },
        "id": "GpJpZz3Wbm0X",
        "outputId": "08839b9f-1f17-470b-a19d-05652c99a47c"
      },
      "outputs": [
        {
          "name": "stdout",
          "output_type": "stream",
          "text": [
            "Your final reward is : 201.24\n"
          ]
        }
      ],
      "source": [
        "print(f\"Your final reward is : %.2f\"%np.mean(test_total_reward))"
      ]
    },
    {
      "cell_type": "code",
      "execution_count": null,
      "metadata": {
        "id": "FT0VS96EaLsl"
      },
      "outputs": [],
      "source": [
        "# best: 201\n",
        "# 2000 epoch\n",
        "# RMSprop with lr = 0.0001\n",
        "# MAX_STEP = 1000"
      ]
    },
    {
      "cell_type": "markdown",
      "metadata": {
        "id": "wUBtYXG2eaqf"
      },
      "source": [
        "## Reference\n",
        "\n",
        "Below are some useful tips for you to get high score.\n",
        "\n",
        "- [DRL Lecture 1: Policy Gradient (Review)](https://youtu.be/z95ZYgPgXOY)\n",
        "- [ML Lecture 23-3: Reinforcement Learning (including Q-learning) start at 30:00](https://youtu.be/2-JNBzCq77c?t=1800)\n",
        "- [Lecture 7: Policy Gradient, David Silver](http://www0.cs.ucl.ac.uk/staff/d.silver/web/Teaching_files/pg.pdf)\n"
      ]
    }
  ],
  "metadata": {
    "colab": {
      "background_execution": "on",
      "collapsed_sections": [],
      "machine_shape": "hm",
      "name": "ML_HW12_DQN",
      "provenance": []
    },
    "kernelspec": {
      "display_name": "Python 3",
      "name": "python3"
    },
    "widgets": {
      "application/vnd.jupyter.widget-state+json": {
        "2b9ba2e679d647e4bcb4ce5dce8100b7": {
          "model_module": "@jupyter-widgets/controls",
          "model_module_version": "1.5.0",
          "model_name": "ProgressStyleModel",
          "state": {
            "_model_module": "@jupyter-widgets/controls",
            "_model_module_version": "1.5.0",
            "_model_name": "ProgressStyleModel",
            "_view_count": null,
            "_view_module": "@jupyter-widgets/base",
            "_view_module_version": "1.2.0",
            "_view_name": "StyleView",
            "bar_color": null,
            "description_width": ""
          }
        },
        "53663a494d014aa1bf3d2d62beebdcef": {
          "model_module": "@jupyter-widgets/base",
          "model_module_version": "1.2.0",
          "model_name": "LayoutModel",
          "state": {
            "_model_module": "@jupyter-widgets/base",
            "_model_module_version": "1.2.0",
            "_model_name": "LayoutModel",
            "_view_count": null,
            "_view_module": "@jupyter-widgets/base",
            "_view_module_version": "1.2.0",
            "_view_name": "LayoutView",
            "align_content": null,
            "align_items": null,
            "align_self": null,
            "border": null,
            "bottom": null,
            "display": null,
            "flex": null,
            "flex_flow": null,
            "grid_area": null,
            "grid_auto_columns": null,
            "grid_auto_flow": null,
            "grid_auto_rows": null,
            "grid_column": null,
            "grid_gap": null,
            "grid_row": null,
            "grid_template_areas": null,
            "grid_template_columns": null,
            "grid_template_rows": null,
            "height": null,
            "justify_content": null,
            "justify_items": null,
            "left": null,
            "margin": null,
            "max_height": null,
            "max_width": null,
            "min_height": null,
            "min_width": null,
            "object_fit": null,
            "object_position": null,
            "order": null,
            "overflow": null,
            "overflow_x": null,
            "overflow_y": null,
            "padding": null,
            "right": null,
            "top": null,
            "visibility": null,
            "width": null
          }
        },
        "6d57d723e3974775876ada72bcc618a0": {
          "model_module": "@jupyter-widgets/base",
          "model_module_version": "1.2.0",
          "model_name": "LayoutModel",
          "state": {
            "_model_module": "@jupyter-widgets/base",
            "_model_module_version": "1.2.0",
            "_model_name": "LayoutModel",
            "_view_count": null,
            "_view_module": "@jupyter-widgets/base",
            "_view_module_version": "1.2.0",
            "_view_name": "LayoutView",
            "align_content": null,
            "align_items": null,
            "align_self": null,
            "border": null,
            "bottom": null,
            "display": null,
            "flex": null,
            "flex_flow": null,
            "grid_area": null,
            "grid_auto_columns": null,
            "grid_auto_flow": null,
            "grid_auto_rows": null,
            "grid_column": null,
            "grid_gap": null,
            "grid_row": null,
            "grid_template_areas": null,
            "grid_template_columns": null,
            "grid_template_rows": null,
            "height": null,
            "justify_content": null,
            "justify_items": null,
            "left": null,
            "margin": null,
            "max_height": null,
            "max_width": null,
            "min_height": null,
            "min_width": null,
            "object_fit": null,
            "object_position": null,
            "order": null,
            "overflow": null,
            "overflow_x": null,
            "overflow_y": null,
            "padding": null,
            "right": null,
            "top": null,
            "visibility": null,
            "width": null
          }
        },
        "90276f4835774047a7d06c14f13df22d": {
          "model_module": "@jupyter-widgets/controls",
          "model_module_version": "1.5.0",
          "model_name": "HBoxModel",
          "state": {
            "_dom_classes": [],
            "_model_module": "@jupyter-widgets/controls",
            "_model_module_version": "1.5.0",
            "_model_name": "HBoxModel",
            "_view_count": null,
            "_view_module": "@jupyter-widgets/controls",
            "_view_module_version": "1.5.0",
            "_view_name": "HBoxView",
            "box_style": "",
            "children": [
              "IPY_MODEL_bcbf1f0c07534107b0b6d1c29dd13a9b",
              "IPY_MODEL_9a9fa0fe8f6644c187599617ce802a6e",
              "IPY_MODEL_9097ce52b279459c8c1bc715c5011640"
            ],
            "layout": "IPY_MODEL_6d57d723e3974775876ada72bcc618a0"
          }
        },
        "9097ce52b279459c8c1bc715c5011640": {
          "model_module": "@jupyter-widgets/controls",
          "model_module_version": "1.5.0",
          "model_name": "HTMLModel",
          "state": {
            "_dom_classes": [],
            "_model_module": "@jupyter-widgets/controls",
            "_model_module_version": "1.5.0",
            "_model_name": "HTMLModel",
            "_view_count": null,
            "_view_module": "@jupyter-widgets/controls",
            "_view_module_version": "1.5.0",
            "_view_name": "HTMLView",
            "description": "",
            "description_tooltip": null,
            "layout": "IPY_MODEL_fa4c767dbc1f466fb775c4a375f73273",
            "placeholder": "​",
            "style": "IPY_MODEL_a4330ff85e6a45649000eeb7e9e2f2ae",
            "value": " 2027/3000 [44:52&lt;28:08,  1.74s/it]"
          }
        },
        "9a9fa0fe8f6644c187599617ce802a6e": {
          "model_module": "@jupyter-widgets/controls",
          "model_module_version": "1.5.0",
          "model_name": "FloatProgressModel",
          "state": {
            "_dom_classes": [],
            "_model_module": "@jupyter-widgets/controls",
            "_model_module_version": "1.5.0",
            "_model_name": "FloatProgressModel",
            "_view_count": null,
            "_view_module": "@jupyter-widgets/controls",
            "_view_module_version": "1.5.0",
            "_view_name": "ProgressView",
            "bar_style": "",
            "description": "",
            "description_tooltip": null,
            "layout": "IPY_MODEL_53663a494d014aa1bf3d2d62beebdcef",
            "max": 3000,
            "min": 0,
            "orientation": "horizontal",
            "style": "IPY_MODEL_2b9ba2e679d647e4bcb4ce5dce8100b7",
            "value": 2027
          }
        },
        "9cddd3f1dfe647f1b815d4828067077d": {
          "model_module": "@jupyter-widgets/controls",
          "model_module_version": "1.5.0",
          "model_name": "DescriptionStyleModel",
          "state": {
            "_model_module": "@jupyter-widgets/controls",
            "_model_module_version": "1.5.0",
            "_model_name": "DescriptionStyleModel",
            "_view_count": null,
            "_view_module": "@jupyter-widgets/base",
            "_view_module_version": "1.2.0",
            "_view_name": "StyleView",
            "description_width": ""
          }
        },
        "a4330ff85e6a45649000eeb7e9e2f2ae": {
          "model_module": "@jupyter-widgets/controls",
          "model_module_version": "1.5.0",
          "model_name": "DescriptionStyleModel",
          "state": {
            "_model_module": "@jupyter-widgets/controls",
            "_model_module_version": "1.5.0",
            "_model_name": "DescriptionStyleModel",
            "_view_count": null,
            "_view_module": "@jupyter-widgets/base",
            "_view_module_version": "1.2.0",
            "_view_name": "StyleView",
            "description_width": ""
          }
        },
        "b7e6683e5b994aa593db7cbdc4f52982": {
          "model_module": "@jupyter-widgets/base",
          "model_module_version": "1.2.0",
          "model_name": "LayoutModel",
          "state": {
            "_model_module": "@jupyter-widgets/base",
            "_model_module_version": "1.2.0",
            "_model_name": "LayoutModel",
            "_view_count": null,
            "_view_module": "@jupyter-widgets/base",
            "_view_module_version": "1.2.0",
            "_view_name": "LayoutView",
            "align_content": null,
            "align_items": null,
            "align_self": null,
            "border": null,
            "bottom": null,
            "display": null,
            "flex": null,
            "flex_flow": null,
            "grid_area": null,
            "grid_auto_columns": null,
            "grid_auto_flow": null,
            "grid_auto_rows": null,
            "grid_column": null,
            "grid_gap": null,
            "grid_row": null,
            "grid_template_areas": null,
            "grid_template_columns": null,
            "grid_template_rows": null,
            "height": null,
            "justify_content": null,
            "justify_items": null,
            "left": null,
            "margin": null,
            "max_height": null,
            "max_width": null,
            "min_height": null,
            "min_width": null,
            "object_fit": null,
            "object_position": null,
            "order": null,
            "overflow": null,
            "overflow_x": null,
            "overflow_y": null,
            "padding": null,
            "right": null,
            "top": null,
            "visibility": null,
            "width": null
          }
        },
        "bcbf1f0c07534107b0b6d1c29dd13a9b": {
          "model_module": "@jupyter-widgets/controls",
          "model_module_version": "1.5.0",
          "model_name": "HTMLModel",
          "state": {
            "_dom_classes": [],
            "_model_module": "@jupyter-widgets/controls",
            "_model_module_version": "1.5.0",
            "_model_name": "HTMLModel",
            "_view_count": null,
            "_view_module": "@jupyter-widgets/controls",
            "_view_module_version": "1.5.0",
            "_view_name": "HTMLView",
            "description": "",
            "description_tooltip": null,
            "layout": "IPY_MODEL_b7e6683e5b994aa593db7cbdc4f52982",
            "placeholder": "​",
            "style": "IPY_MODEL_9cddd3f1dfe647f1b815d4828067077d",
            "value": " 68%"
          }
        },
        "fa4c767dbc1f466fb775c4a375f73273": {
          "model_module": "@jupyter-widgets/base",
          "model_module_version": "1.2.0",
          "model_name": "LayoutModel",
          "state": {
            "_model_module": "@jupyter-widgets/base",
            "_model_module_version": "1.2.0",
            "_model_name": "LayoutModel",
            "_view_count": null,
            "_view_module": "@jupyter-widgets/base",
            "_view_module_version": "1.2.0",
            "_view_name": "LayoutView",
            "align_content": null,
            "align_items": null,
            "align_self": null,
            "border": null,
            "bottom": null,
            "display": null,
            "flex": null,
            "flex_flow": null,
            "grid_area": null,
            "grid_auto_columns": null,
            "grid_auto_flow": null,
            "grid_auto_rows": null,
            "grid_column": null,
            "grid_gap": null,
            "grid_row": null,
            "grid_template_areas": null,
            "grid_template_columns": null,
            "grid_template_rows": null,
            "height": null,
            "justify_content": null,
            "justify_items": null,
            "left": null,
            "margin": null,
            "max_height": null,
            "max_width": null,
            "min_height": null,
            "min_width": null,
            "object_fit": null,
            "object_position": null,
            "order": null,
            "overflow": null,
            "overflow_x": null,
            "overflow_y": null,
            "padding": null,
            "right": null,
            "top": null,
            "visibility": null,
            "width": null
          }
        }
      }
    }
  },
  "nbformat": 4,
  "nbformat_minor": 0
}