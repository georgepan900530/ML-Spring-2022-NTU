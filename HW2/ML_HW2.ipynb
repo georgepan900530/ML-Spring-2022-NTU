{
  "cells": [
    {
      "cell_type": "markdown",
      "metadata": {
        "id": "OYlaRwNu7ojq"
      },
      "source": [
        "# **Homework 2 Phoneme Classification**\n",
        "\n",
        "* Slides: https://docs.google.com/presentation/d/1v6HkBWiJb8WNDcJ9_-2kwVstxUWml87b9CnA16Gdoio/edit?usp=sharing\n",
        "* Kaggle: https://www.kaggle.com/c/ml2022spring-hw2\n",
        "* Video: TBA\n"
      ]
    },
    {
      "cell_type": "code",
      "execution_count": 1,
      "metadata": {
        "id": "mLQI0mNcmM-O",
        "colab": {
          "base_uri": "https://localhost:8080/"
        },
        "outputId": "fd770c33-600b-43a2-fd92-e622063587fb"
      },
      "outputs": [
        {
          "output_type": "stream",
          "name": "stdout",
          "text": [
            "Wed Mar  9 02:04:53 2022       \n",
            "+-----------------------------------------------------------------------------+\n",
            "| NVIDIA-SMI 460.32.03    Driver Version: 460.32.03    CUDA Version: 11.2     |\n",
            "|-------------------------------+----------------------+----------------------+\n",
            "| GPU  Name        Persistence-M| Bus-Id        Disp.A | Volatile Uncorr. ECC |\n",
            "| Fan  Temp  Perf  Pwr:Usage/Cap|         Memory-Usage | GPU-Util  Compute M. |\n",
            "|                               |                      |               MIG M. |\n",
            "|===============================+======================+======================|\n",
            "|   0  Tesla P100-PCIE...  Off  | 00000000:00:04.0 Off |                    0 |\n",
            "| N/A   44C    P0    28W / 250W |      0MiB / 16280MiB |      0%      Default |\n",
            "|                               |                      |                  N/A |\n",
            "+-------------------------------+----------------------+----------------------+\n",
            "                                                                               \n",
            "+-----------------------------------------------------------------------------+\n",
            "| Processes:                                                                  |\n",
            "|  GPU   GI   CI        PID   Type   Process name                  GPU Memory |\n",
            "|        ID   ID                                                   Usage      |\n",
            "|=============================================================================|\n",
            "|  No running processes found                                                 |\n",
            "+-----------------------------------------------------------------------------+\n"
          ]
        }
      ],
      "source": [
        "gpu_info = !nvidia-smi\n",
        "gpu_info = '\\n'.join(gpu_info)\n",
        "if gpu_info.find('failed') >= 0:\n",
        "  print('Not connected to a GPU')\n",
        "else:\n",
        "  print(gpu_info)"
      ]
    },
    {
      "cell_type": "code",
      "source": [
        "from google.colab import drive\n",
        "drive.mount('/content/drive')"
      ],
      "metadata": {
        "colab": {
          "base_uri": "https://localhost:8080/"
        },
        "id": "aqtjC1LM60DN",
        "outputId": "b548429f-334d-4264-8d70-06ddca046b52"
      },
      "execution_count": 2,
      "outputs": [
        {
          "output_type": "stream",
          "name": "stdout",
          "text": [
            "Mounted at /content/drive\n"
          ]
        }
      ]
    },
    {
      "cell_type": "markdown",
      "metadata": {
        "id": "KVUGfWTo7_Oj"
      },
      "source": [
        "## Download Data\n",
        "Download data from google drive, then unzip it.\n",
        "\n",
        "You should have\n",
        "- `libriphone/train_split.txt`\n",
        "- `libriphone/train_labels`\n",
        "- `libriphone/test_split.txt`\n",
        "- `libriphone/feat/train/*.pt`: training feature<br>\n",
        "- `libriphone/feat/test/*.pt`:  testing feature<br>\n",
        "\n",
        "after running the following block.\n",
        "\n",
        "> **Notes: if the google drive link is dead, you can download the data directly from [Kaggle](https://www.kaggle.com/c/ml2022spring-hw2/data) and upload it to the workspace**\n"
      ]
    },
    {
      "cell_type": "markdown",
      "metadata": {
        "id": "Bj5jYXsD9Ef3"
      },
      "source": [
        "### Download train/test metadata"
      ]
    },
    {
      "cell_type": "code",
      "execution_count": 3,
      "metadata": {
        "id": "OzkiMEcC3Foq"
      },
      "outputs": [],
      "source": [
        "#!pip install --upgrade gdown\n",
        "\n",
        "# Main link\n",
        "#!gdown --id '1o6Ag-G3qItSmYhTheX6DYiuyNzWyHyTc' --output libriphone.zip\n",
        "\n",
        "# Backup link 1\n",
        "#!gdown --id '1R1uQYi4QpX0tBfUWt2mbZcncdBsJkxeW' --output libriphone.zip\n",
        "\n",
        "# Bqckup link 2\n",
        "#!wget -O libriphone.zip \"https://www.dropbox.com/s/wqww8c5dbrl2ka9/libriphone.zip?dl=1\"\n",
        "\n",
        "!unzip -q /content/drive/MyDrive/ML/HW2/ml2022spring-hw2.zip"
      ]
    },
    {
      "cell_type": "markdown",
      "metadata": {
        "id": "_L_4anls8Drv"
      },
      "source": [
        "### Preparing Data"
      ]
    },
    {
      "cell_type": "markdown",
      "metadata": {
        "id": "po4N3C-AWuWl"
      },
      "source": [
        "**Helper functions to pre-process the training data from raw MFCC features of each utterance.**\n",
        "\n",
        "A phoneme may span several frames and is dependent to past and future frames. \\\n",
        "Hence we concatenate neighboring phonemes for training to achieve higher accuracy. The **concat_feat** function concatenates past and future k frames (total 2k+1 = n frames), and we predict the center frame.\n",
        "\n",
        "Feel free to modify the data preprocess functions, but **do not drop any frame** (if you modify the functions, remember to check that the number of frames are the same as mentioned in the slides)"
      ]
    },
    {
      "cell_type": "code",
      "execution_count": 4,
      "metadata": {
        "id": "IJjLT8em-y9G"
      },
      "outputs": [],
      "source": [
        "import os\n",
        "import random\n",
        "import pandas as pd\n",
        "import torch\n",
        "from tqdm import tqdm\n",
        "\n",
        "def load_feat(path):\n",
        "    feat = torch.load(path)\n",
        "    return feat\n",
        "\n",
        "def shift(x, n):\n",
        "    if n < 0:\n",
        "        left = x[0].repeat(-n, 1)\n",
        "        right = x[:n]\n",
        "\n",
        "    elif n > 0:\n",
        "        right = x[-1].repeat(n, 1)\n",
        "        left = x[n:]\n",
        "    else:\n",
        "        return x\n",
        "\n",
        "    return torch.cat((left, right), dim=0)\n",
        "\n",
        "def concat_feat(x, concat_n):\n",
        "    assert concat_n % 2 == 1 # n must be odd\n",
        "    if concat_n < 2:\n",
        "        return x\n",
        "    seq_len, feature_dim = x.size(0), x.size(1)\n",
        "    x = x.repeat(1, concat_n) \n",
        "    x = x.view(seq_len, concat_n, feature_dim).permute(1, 0, 2) # concat_n, seq_len, feature_dim\n",
        "    mid = (concat_n // 2)\n",
        "    for r_idx in range(1, mid+1):\n",
        "        x[mid + r_idx, :] = shift(x[mid + r_idx], r_idx)\n",
        "        x[mid - r_idx, :] = shift(x[mid - r_idx], -r_idx)\n",
        "\n",
        "    return x.permute(1, 0, 2).view(seq_len, concat_n * feature_dim)\n",
        "\n",
        "def preprocess_data(split, feat_dir, phone_path, concat_nframes, train_ratio=0.8, train_val_seed=1337):\n",
        "    class_num = 41 # NOTE: pre-computed, should not need change\n",
        "    mode = 'train' if (split == 'train' or split == 'val') else 'test'\n",
        "\n",
        "    label_dict = {}\n",
        "    if mode != 'test':\n",
        "      phone_file = open(os.path.join(phone_path, f'{mode}_labels.txt')).readlines()\n",
        "\n",
        "      for line in phone_file:\n",
        "          line = line.strip('\\n').split(' ')\n",
        "          label_dict[line[0]] = [int(p) for p in line[1:]]\n",
        "\n",
        "    if split == 'train' or split == 'val':\n",
        "        # split training and validation data\n",
        "        usage_list = open(os.path.join(phone_path, 'train_split.txt')).readlines()\n",
        "        random.seed(train_val_seed)\n",
        "        random.shuffle(usage_list)\n",
        "        percent = int(len(usage_list) * train_ratio)\n",
        "        usage_list = usage_list[:percent] if split == 'train' else usage_list[percent:]\n",
        "    elif split == 'test':\n",
        "        usage_list = open(os.path.join(phone_path, 'test_split.txt')).readlines()\n",
        "    else:\n",
        "        raise ValueError('Invalid \\'split\\' argument for dataset: PhoneDataset!')\n",
        "\n",
        "    usage_list = [line.strip('\\n') for line in usage_list]\n",
        "    print('[Dataset] - # phone classes: ' + str(class_num) + ', number of utterances for ' + split + ': ' + str(len(usage_list)))\n",
        "\n",
        "    max_len = 3000000\n",
        "    X = torch.empty(max_len, 39 * concat_nframes)\n",
        "    if mode != 'test':\n",
        "      y = torch.empty(max_len, dtype=torch.long)\n",
        "\n",
        "    idx = 0\n",
        "    for i, fname in tqdm(enumerate(usage_list)):\n",
        "        feat = load_feat(os.path.join(feat_dir, mode, f'{fname}.pt'))\n",
        "        cur_len = len(feat)\n",
        "        feat = concat_feat(feat, concat_nframes)\n",
        "        if mode != 'test':\n",
        "          label = torch.LongTensor(label_dict[fname])\n",
        "\n",
        "        X[idx: idx + cur_len, :] = feat\n",
        "        if mode != 'test':\n",
        "          y[idx: idx + cur_len] = label\n",
        "\n",
        "        idx += cur_len\n",
        "\n",
        "    X = X[:idx, :]\n",
        "    if mode != 'test':\n",
        "      y = y[:idx]\n",
        "\n",
        "    print(f'[INFO] {split} set')\n",
        "    print(X.shape)\n",
        "    if mode != 'test':\n",
        "      print(y.shape)\n",
        "      return X, y\n",
        "    else:\n",
        "      return X\n"
      ]
    },
    {
      "cell_type": "markdown",
      "metadata": {
        "id": "us5XW_x6udZQ"
      },
      "source": [
        "## Define Dataset"
      ]
    },
    {
      "cell_type": "code",
      "execution_count": 5,
      "metadata": {
        "id": "CfRUEgC0GxUV",
        "colab": {
          "base_uri": "https://localhost:8080/"
        },
        "outputId": "e2a9602f-e23f-47bf-92c3-ec54cb48a0ba"
      },
      "outputs": [
        {
          "output_type": "stream",
          "name": "stdout",
          "text": [
            "DEVICE: cuda:0\n"
          ]
        }
      ],
      "source": [
        "device = 'cuda:0' if torch.cuda.is_available() else 'cpu'\n",
        "print(f'DEVICE: {device}')"
      ]
    },
    {
      "cell_type": "code",
      "source": [
        "# data prarameters\n",
        "concat_nframes = 45              # the number of frames to concat with, n must be odd (total 2k+1 = n frames)\n",
        "train_ratio = 0.8               # the ratio of data used for training, the rest will be used for validation\n",
        "\n",
        "# training parameters\n",
        "seed = 0                        # random seed\n",
        "batch_size = 128                # batch size\n",
        "num_epoch = 10                   # the number of training epoch\n",
        "learning_rate = 0.0001          # learning rate\n",
        "model_path = '/content/drive/MyDrive/ML/HW2/model.ckpt'     # the path where the checkpoint will be saved\n",
        "\n",
        "# model parameters\n",
        "# input_dim = 39 * concat_nframes # the input dim of the model, you should not change the value\n",
        "input_dim = 39\n",
        "hidden_layers = 5               # the number of hidden layers\n",
        "hidden_dim = 750              # the hidden dim"
      ],
      "metadata": {
        "id": "iIHn79Iav1ri"
      },
      "execution_count": 6,
      "outputs": []
    },
    {
      "cell_type": "code",
      "execution_count": 7,
      "metadata": {
        "id": "Fjf5EcmJtf4e"
      },
      "outputs": [],
      "source": [
        "import torch\n",
        "from torch.utils.data import Dataset\n",
        "from torch.utils.data import ConcatDataset, DataLoader, Subset, Dataset, random_split,SubsetRandomSampler\n",
        "\n",
        "class LibriDataset(Dataset):\n",
        "    def __init__(self, X, seq_len, input_dim,y=None):\n",
        "        self.data = X\n",
        "        self.seq_len = seq_len\n",
        "        self.input_dim = input_dim\n",
        "        if y is not None:\n",
        "            self.label = torch.LongTensor(y)\n",
        "        else:\n",
        "            self.label = None\n",
        "\n",
        "    def __getitem__(self, idx):\n",
        "        if self.label is not None:\n",
        "            #print(self.data[idx].shape)\n",
        "            return self.data[idx].reshape(-1,self.input_dim), self.label[idx]\n",
        "        else:\n",
        "            return self.data[idx].reshape(self.seq_len,self.input_dim)\n",
        "\n",
        "    def __len__(self):\n",
        "        return len(self.data)\n"
      ]
    },
    {
      "cell_type": "code",
      "source": [
        "import gc\n",
        "\n",
        "# preprocess data\n",
        "train_X, train_y = preprocess_data(split='train', feat_dir='./libriphone/libriphone/feat', phone_path='./libriphone/libriphone', concat_nframes=concat_nframes, train_ratio=train_ratio)\n",
        "val_X, val_y = preprocess_data(split='val', feat_dir='./libriphone/libriphone/feat', phone_path='./libriphone/libriphone', concat_nframes=concat_nframes, train_ratio=train_ratio)\n",
        "\n",
        "# get dataset\n",
        "train_set = LibriDataset(train_X, concat_nframes, input_dim, train_y)\n",
        "val_set = LibriDataset(val_X, concat_nframes, input_dim, val_y)\n",
        "total_set = ConcatDataset([train_set,val_set])\n",
        "# remove raw feature to save memory\n",
        "del train_X, train_y, val_X, val_y\n",
        "gc.collect()\n",
        "\n",
        "# get dataloader\n",
        "#train_loader = DataLoader(train_set, batch_size=batch_size, shuffle=True, num_workers=1)\n",
        "#val_loader = DataLoader(val_set, batch_size=batch_size, shuffle=False, num_workers=1)\n",
        "total_loader = DataLoader(total_set, batch_size=batch_size, shuffle=True, num_workers=1)"
      ],
      "metadata": {
        "id": "c1zI3v5jyrDn",
        "colab": {
          "base_uri": "https://localhost:8080/"
        },
        "outputId": "e1adde2e-c3ca-414c-892f-0684700f3f7f"
      },
      "execution_count": 8,
      "outputs": [
        {
          "output_type": "stream",
          "name": "stdout",
          "text": [
            "[Dataset] - # phone classes: 41, number of utterances for train: 3428\n"
          ]
        },
        {
          "output_type": "stream",
          "name": "stderr",
          "text": [
            "3428it [00:18, 183.00it/s]\n"
          ]
        },
        {
          "output_type": "stream",
          "name": "stdout",
          "text": [
            "[INFO] train set\n",
            "torch.Size([2116368, 1755])\n",
            "torch.Size([2116368])\n",
            "[Dataset] - # phone classes: 41, number of utterances for val: 858\n"
          ]
        },
        {
          "output_type": "stream",
          "name": "stderr",
          "text": [
            "858it [00:04, 183.61it/s]\n"
          ]
        },
        {
          "output_type": "stream",
          "name": "stdout",
          "text": [
            "[INFO] val set\n",
            "torch.Size([527790, 1755])\n",
            "torch.Size([527790])\n"
          ]
        }
      ]
    },
    {
      "cell_type": "markdown",
      "metadata": {
        "id": "IRqKNvNZwe3V"
      },
      "source": [
        "## Define Model"
      ]
    },
    {
      "cell_type": "code",
      "execution_count": 9,
      "metadata": {
        "id": "Bg-GRd7ywdrL"
      },
      "outputs": [],
      "source": [
        "from torch.nn.modules.batchnorm import BatchNorm1d\n",
        "import torch\n",
        "import torch.nn as nn\n",
        "import torch.nn.functional as F\n",
        "\n",
        "class MyRNN(nn.Module):\n",
        "    def __init__(self,input_dim,hidden_dim,hidden_layers):\n",
        "      super(MyRNN,self).__init__()\n",
        "      self.hidden_layers = hidden_layers\n",
        "      self.hidden_dim = hidden_dim\n",
        "      self.gru = nn.GRU(input_dim,hidden_dim,hidden_layers,batch_first=True,dropout=0.5)\n",
        "      # x -> (batch,seq_len,input_size)\n",
        "      self.fc = nn.Sequential(\n",
        "          nn.Linear(hidden_dim,64),\n",
        "          nn.BatchNorm1d(64),\n",
        "          nn.Dropout(0.5),\n",
        "          nn.LeakyReLU(),\n",
        "          nn.Linear(64,41),\n",
        "      )\n",
        "\n",
        "    def forward(self,x):\n",
        "      h0 = torch.randn(self.hidden_layers,x.size(0),self.hidden_dim).to(device)\n",
        "      #c0 = torch.zeros(self.hidden_layers,x.size(0),self.hidden_dim).to(device)\n",
        "      out,_ = self.gru(x,h0)\n",
        "      # batch, seq_len, hidden_size\n",
        "      out = out[:,-1,:]\n",
        "      out = self.fc(out)\n",
        "      return out"
      ]
    },
    {
      "cell_type": "markdown",
      "source": [
        "## Hyper-parameters"
      ],
      "metadata": {
        "id": "TlIq8JeqvvHC"
      }
    },
    {
      "cell_type": "markdown",
      "source": [
        "## Prepare dataset and model"
      ],
      "metadata": {
        "id": "IIUFRgG5yoDn"
      }
    },
    {
      "cell_type": "code",
      "execution_count": 10,
      "metadata": {
        "id": "88xPiUnm0tAd"
      },
      "outputs": [],
      "source": [
        "import numpy as np\n",
        "\n",
        "#fix seed\n",
        "def same_seeds(seed):\n",
        "    torch.manual_seed(seed)\n",
        "    if torch.cuda.is_available():\n",
        "        torch.cuda.manual_seed(seed)\n",
        "        torch.cuda.manual_seed_all(seed)  \n",
        "    np.random.seed(seed)  \n",
        "    torch.backends.cudnn.benchmark = False\n",
        "    torch.backends.cudnn.deterministic = True"
      ]
    },
    {
      "cell_type": "code",
      "execution_count": 11,
      "metadata": {
        "id": "QTp3ZXg1yO9Y"
      },
      "outputs": [],
      "source": [
        "# fix random seed\n",
        "same_seeds(seed)\n",
        "\n",
        "# create model, define a loss function, and optimizer\n",
        "model = MyRNN(input_dim,hidden_dim,hidden_layers).to(device)\n",
        "criterion = nn.CrossEntropyLoss(label_smoothing=0.15) \n",
        "optimizer = torch.optim.AdamW(model.parameters(), lr=learning_rate, weight_decay=0.001)\n",
        "scheduler = torch.optim.lr_scheduler.ReduceLROnPlateau(optimizer, 'min', patience=1, verbose=True)"
      ]
    },
    {
      "cell_type": "markdown",
      "source": [
        "## Training"
      ],
      "metadata": {
        "id": "pwWH1KIqzxEr"
      }
    },
    {
      "cell_type": "code",
      "execution_count": 17,
      "metadata": {
        "id": "CdMWsBs7zzNs",
        "colab": {
          "base_uri": "https://localhost:8080/"
        },
        "outputId": "0578ac45-65e7-4554-9b0c-f919d9e3cfca"
      },
      "outputs": [
        {
          "output_type": "stream",
          "name": "stdout",
          "text": [
            "[001/010] Train Acc: 0.762080 Loss: 1.717342\n",
            "saving model with acc 0.762\n",
            "[002/010] Train Acc: 0.827352 Loss: 1.547785\n",
            "saving model with acc 0.827\n",
            "[003/010] Train Acc: 0.859215 Loss: 1.459841\n",
            "saving model with acc 0.859\n",
            "[004/010] Train Acc: 0.877273 Loss: 1.406900\n",
            "saving model with acc 0.877\n",
            "[005/010] Train Acc: 0.888621 Loss: 1.372384\n",
            "saving model with acc 0.889\n",
            "[006/010] Train Acc: 0.896080 Loss: 1.348826\n",
            "saving model with acc 0.896\n",
            "[007/010] Train Acc: 0.901500 Loss: 1.331574\n",
            "saving model with acc 0.902\n",
            "[008/010] Train Acc: 0.905369 Loss: 1.319414\n",
            "saving model with acc 0.905\n",
            "[009/010] Train Acc: 0.908570 Loss: 1.309104\n",
            "saving model with acc 0.909\n",
            "[010/010] Train Acc: 0.911033 Loss: 1.301289\n",
            "saving model with acc 0.911\n"
          ]
        }
      ],
      "source": [
        "best_acc = 0.0\n",
        "for epoch in range(num_epoch):\n",
        "    train_acc = 0.0\n",
        "    train_loss = 0.0\n",
        "    #val_acc = 0.0\n",
        "    #val_loss = 0.0\n",
        "    \n",
        "    # training\n",
        "    model.train() # set the model to training mode\n",
        "    for i, batch in enumerate(total_loader):\n",
        "        features, labels = batch\n",
        "        features = features.to(device)\n",
        "        labels = labels.to(device)\n",
        "        #print(labels.shape)\n",
        "        optimizer.zero_grad() \n",
        "        outputs = model(features) \n",
        "        \n",
        "        loss = criterion(outputs, labels)\n",
        "        loss.backward()\n",
        "        optimizer.step() \n",
        "        \n",
        "        _, train_pred = torch.max(outputs, 1) # get the index of the class with the highest probability\n",
        "        train_acc += (train_pred.detach() == labels.detach()).sum().item()\n",
        "        train_loss += loss.item()\n",
        "    print('[{:03d}/{:03d}] Train Acc: {:3.6f} Loss: {:3.6f}'.format(epoch + 1, num_epoch, train_acc/len(total_set), train_loss/len(total_loader)))\n",
        "    if train_acc > best_acc:\n",
        "        best_acc = train_acc\n",
        "        torch.save(model.state_dict(), model_path)\n",
        "        print('saving model with acc {:.3f}'.format(best_acc/len(total_set)))\n",
        "    scheduler.step(train_loss/len(total_loader))\n",
        "# if not validating, save the last epoch\n",
        "if len(total_set) == 0:\n",
        "    torch.save(model.state_dict(), model_path)\n",
        "    print('saving model at last epoch')"
      ]
    },
    {
      "cell_type": "markdown",
      "metadata": {
        "id": "1Hi7jTn3PX-m"
      },
      "source": [
        "## Testing\n",
        "Create a testing dataset, and load model from the saved checkpoint."
      ]
    },
    {
      "cell_type": "code",
      "execution_count": 12,
      "metadata": {
        "id": "VOG1Ou0PGrhc",
        "colab": {
          "base_uri": "https://localhost:8080/"
        },
        "outputId": "4a2273d3-083d-4fab-9542-5776b4f89781"
      },
      "outputs": [
        {
          "output_type": "stream",
          "name": "stdout",
          "text": [
            "[Dataset] - # phone classes: 41, number of utterances for test: 1078\n"
          ]
        },
        {
          "output_type": "stream",
          "name": "stderr",
          "text": [
            "1078it [00:05, 185.70it/s]"
          ]
        },
        {
          "output_type": "stream",
          "name": "stdout",
          "text": [
            "[INFO] test set\n",
            "torch.Size([646268, 1755])\n"
          ]
        },
        {
          "output_type": "stream",
          "name": "stderr",
          "text": [
            "\n"
          ]
        }
      ],
      "source": [
        "# load data\n",
        "test_X = preprocess_data(split='test', feat_dir='./libriphone/libriphone/feat', phone_path='./libriphone/libriphone', concat_nframes=concat_nframes)\n",
        "test_set = LibriDataset(test_X, concat_nframes, input_dim, None)\n",
        "test_loader = DataLoader(test_set, batch_size=batch_size, shuffle=False)"
      ]
    },
    {
      "cell_type": "code",
      "execution_count": 13,
      "metadata": {
        "id": "ay0Fu8Ovkdad",
        "colab": {
          "base_uri": "https://localhost:8080/"
        },
        "outputId": "5868f5d4-2386-435f-e3d4-c4d330d7f885"
      },
      "outputs": [
        {
          "output_type": "execute_result",
          "data": {
            "text/plain": [
              "<All keys matched successfully>"
            ]
          },
          "metadata": {},
          "execution_count": 13
        }
      ],
      "source": [
        "# load model\n",
        "model = MyRNN(input_dim,hidden_dim,hidden_layers).to(device)\n",
        "model.load_state_dict(torch.load(model_path))"
      ]
    },
    {
      "cell_type": "markdown",
      "metadata": {
        "id": "zp-DV1p4r7Nz"
      },
      "source": [
        "Make prediction."
      ]
    },
    {
      "cell_type": "code",
      "source": [
        "def training(model,optimizer,criterion,dataloader):\n",
        "    train_loss = []\n",
        "    train_accs = []\n",
        "    #val_acc = 0.0\n",
        "    #val_loss = 0.0\n",
        "    \n",
        "    # training\n",
        "    model.train() # set the model to training mode\n",
        "    for i, batch in enumerate(dataloader):\n",
        "        features, labels = batch\n",
        "        features = features.to(device)\n",
        "        labels = labels.to(device)\n",
        "        #print(labels.shape)\n",
        "        optimizer.zero_grad() \n",
        "        outputs = model(features) \n",
        "        \n",
        "        loss = criterion(outputs, labels)\n",
        "        loss.backward()\n",
        "        optimizer.step() \n",
        "        \n",
        "        _, train_pred = torch.max(outputs, 1) # get the index of the class with the highest probability\n",
        "        acc = (train_pred.detach() == labels.detach()).float().mean()\n",
        "        train_accs.append(acc)\n",
        "        train_loss.append(loss.item())\n",
        "    train_loss = sum(train_loss) / len(train_loss)\n",
        "    train_acc = sum(train_accs) / len(train_accs)\n",
        "    print(f\"[ Train | {epoch + 1:03d}/{n_epochs:03d} ] loss = {train_loss:.5f}, acc = {train_acc:.5f}\")\n",
        "\n",
        "    return train_loss, train_acc"
      ],
      "metadata": {
        "id": "k6ChquoRg2WV"
      },
      "execution_count": 14,
      "outputs": []
    },
    {
      "cell_type": "code",
      "source": [
        "def validation(model,optimizer,criterion,dataloader):\n",
        "    model.eval()\n",
        "    valid_loss = []\n",
        "    valid_accs = []\n",
        "    with torch.no_grad():\n",
        "        for i, batch in enumerate(dataloader):\n",
        "            features, labels = batch\n",
        "            features = features.to(device)\n",
        "            labels = labels.to(device)\n",
        "            outputs = model(features)\n",
        "                \n",
        "            loss = criterion(outputs, labels) \n",
        "                \n",
        "            _, val_pred = torch.max(outputs, 1) \n",
        "            acc = (val_pred.cpu() == labels.cpu()).float().mean() # get the index of the class with the highest probability\n",
        "            valid_loss.append(loss.item())\n",
        "            valid_accs.append(acc)\n",
        "\n",
        "    valid_loss = sum(valid_loss) / len(valid_loss)\n",
        "    valid_acc = sum(valid_accs) / len(valid_accs)\n",
        "\n",
        "    print(f\"[ Valid | {epoch + 1:03d}/{n_epochs:03d} ] loss = {valid_loss:.5f}, acc = {valid_acc:.5f}\")\n",
        "    return valid_loss, valid_acc"
      ],
      "metadata": {
        "id": "i5bRK8xQiaxT"
      },
      "execution_count": 15,
      "outputs": []
    },
    {
      "cell_type": "code",
      "source": [
        "_exp_name = 'rnn'"
      ],
      "metadata": {
        "id": "btBkwHU1j73F"
      },
      "execution_count": 16,
      "outputs": []
    },
    {
      "cell_type": "code",
      "source": [
        "from sklearn.model_selection import KFold"
      ],
      "metadata": {
        "id": "comAoIMwm9a1"
      },
      "execution_count": 17,
      "outputs": []
    },
    {
      "cell_type": "code",
      "source": [
        "# The number of training epochs and patience.\n",
        "n_epochs = 3\n",
        "patience = 1 # If no improvement in 'patience' epochs, early stop\n",
        "k = 5\n",
        "splits=KFold(n_splits=k,shuffle=True,random_state=1126)\n",
        "foldperf={}\n",
        "history = {'train_loss': [], 'val_loss': [],'train_acc':[],'val_acc':[]}\n",
        "# For the classification task, we use cross-entropy as the measurement of performance.\n",
        "criterion = nn.CrossEntropyLoss(label_smoothing=0.15)\n",
        "fold_acc = dict.fromkeys(['1','2','3','4','5'])\n",
        "# Initialize optimizer, you may fine-tune some hyperparameters such as learning rate on your own.\n",
        "optimizer = torch.optim.AdamW(model.parameters(), lr=learning_rate, weight_decay=0.001) \n",
        "\n",
        "# Initialize trackers, these are not parameters and should not be changed\n",
        "for fold, (train_idx,val_idx) in enumerate(splits.split(np.arange(len(total_set)))):\n",
        "    best_acc = 0\n",
        "    stale = 0\n",
        "    print(f'Fold {fold + 1}')\n",
        "    train_sampler = SubsetRandomSampler(train_idx)\n",
        "    val_sampler = SubsetRandomSampler(val_idx)\n",
        "    train_loader = DataLoader(total_set, batch_size=batch_size, sampler=train_sampler)\n",
        "    val_loader = DataLoader(total_set, batch_size=batch_size, sampler=val_sampler)\n",
        "    for epoch in range(n_epochs):\n",
        "        train_loss, train_acc = training(model,optimizer,criterion,train_loader)\n",
        "\n",
        "        val_loss, val_acc = validation(model,optimizer,criterion,val_loader)\n",
        "        \n",
        "        history['train_loss'].append(train_loss)\n",
        "        history['val_loss'].append(val_loss)\n",
        "        history['train_acc'].append(train_acc.cpu())\n",
        "        history['val_acc'].append(val_acc.cpu())\n",
        "        \n",
        "        # update logs\n",
        "        if val_acc > best_acc:\n",
        "            with open(f\"./{_exp_name}_log.txt\",\"a\"):\n",
        "                print(f\"[ Valid | {epoch + 1:03d}/{n_epochs:03d} ] loss = {val_loss:.5f}, acc = {val_acc:.5f} -> best\")\n",
        "        else:\n",
        "            with open(f\"./{_exp_name}_log.txt\",\"a\"):\n",
        "                print(f\"[ Valid | {epoch + 1:03d}/{n_epochs:03d} ] loss = {val_loss:.5f}, acc = {val_acc:.5f}\")\n",
        "\n",
        "\n",
        "        # save models\n",
        "        if val_acc > best_acc:\n",
        "            print(f\"Best model found at epoch {epoch}, saving model\")\n",
        "            torch.save(model.state_dict(), f\"/content/drive/MyDrive/ML/HW2/{_exp_name}_Fold{fold+1}_best.ckpt\") # only save best to prevent output memory exceed error\n",
        "            best_acc = val_acc\n",
        "            fold_acc[f'{fold+1}'] = best_acc\n",
        "            stale = 0\n",
        "        else:\n",
        "            stale += 1\n",
        "            if stale > patience:\n",
        "                print(f\"No improvment {patience} consecutive epochs, early stopping\")\n",
        "                break\n",
        "    foldperf[f'fold{fold+1}'] = history"
      ],
      "metadata": {
        "colab": {
          "base_uri": "https://localhost:8080/",
          "height": 1000
        },
        "id": "NUSMbZZdjT_w",
        "outputId": "9a839d1f-cb3a-4406-c9ae-3a8d4ec16ee0"
      },
      "execution_count": 23,
      "outputs": [
        {
          "metadata": {
            "tags": null
          },
          "name": "stdout",
          "output_type": "stream",
          "text": [
            "Fold 1\n",
            "[ Train | 001/003 ] loss = 1.28048, acc = 0.91713\n",
            "[ Valid | 001/003 ] loss = 1.11706, acc = 0.93876\n",
            "[ Valid | 001/003 ] loss = 1.11706, acc = 0.93876 -> best\n",
            "Best model found at epoch 0, saving model\n",
            "[ Train | 002/003 ] loss = 1.27775, acc = 0.91836\n",
            "[ Valid | 002/003 ] loss = 1.12557, acc = 0.93440\n",
            "[ Valid | 002/003 ] loss = 1.12557, acc = 0.93440\n",
            "[ Train | 003/003 ] loss = 1.27628, acc = 0.91896\n",
            "[ Valid | 003/003 ] loss = 1.12622, acc = 0.93459\n",
            "[ Valid | 003/003 ] loss = 1.12622, acc = 0.93459\n",
            "No improvment 1 consecutive epochs, early stopping\n",
            "Fold 2\n",
            "[ Train | 001/003 ] loss = 1.27912, acc = 0.91747\n",
            "[ Valid | 001/003 ] loss = 1.11543, acc = 0.93871\n",
            "[ Valid | 001/003 ] loss = 1.11543, acc = 0.93871 -> best\n",
            "Best model found at epoch 0, saving model\n",
            "[ Train | 002/003 ] loss = 1.27663, acc = 0.91875\n",
            "[ Valid | 002/003 ] loss = 1.11891, acc = 0.93648\n",
            "[ Valid | 002/003 ] loss = 1.11891, acc = 0.93648\n",
            "[ Train | 003/003 ] loss = 1.27576, acc = 0.91872\n",
            "[ Valid | 003/003 ] loss = 1.12647, acc = 0.93381\n",
            "[ Valid | 003/003 ] loss = 1.12647, acc = 0.93381\n",
            "No improvment 1 consecutive epochs, early stopping\n",
            "Fold 3\n",
            "[ Train | 001/003 ] loss = 1.27814, acc = 0.91770\n",
            "[ Valid | 001/003 ] loss = 1.12034, acc = 0.93708\n",
            "[ Valid | 001/003 ] loss = 1.12034, acc = 0.93708 -> best\n",
            "Best model found at epoch 0, saving model\n",
            "[ Train | 002/003 ] loss = 1.27734, acc = 0.91797\n",
            "[ Valid | 002/003 ] loss = 1.12380, acc = 0.93542\n",
            "[ Valid | 002/003 ] loss = 1.12380, acc = 0.93542\n",
            "[ Train | 003/003 ] loss = 1.27685, acc = 0.91794\n",
            "[ Valid | 003/003 ] loss = 1.12258, acc = 0.93545\n",
            "[ Valid | 003/003 ] loss = 1.12258, acc = 0.93545\n",
            "No improvment 1 consecutive epochs, early stopping\n",
            "Fold 4\n",
            "[ Train | 001/003 ] loss = 1.28025, acc = 0.91659\n",
            "[ Valid | 001/003 ] loss = 1.11620, acc = 0.93817\n",
            "[ Valid | 001/003 ] loss = 1.11620, acc = 0.93817 -> best\n",
            "Best model found at epoch 0, saving model\n",
            "[ Train | 002/003 ] loss = 1.27944, acc = 0.91695\n",
            "[ Valid | 002/003 ] loss = 1.12225, acc = 0.93661\n",
            "[ Valid | 002/003 ] loss = 1.12225, acc = 0.93661\n",
            "[ Train | 003/003 ] loss = 1.27888, acc = 0.91710\n",
            "[ Valid | 003/003 ] loss = 1.12588, acc = 0.93441\n",
            "[ Valid | 003/003 ] loss = 1.12588, acc = 0.93441\n",
            "No improvment 1 consecutive epochs, early stopping\n",
            "Fold 5\n",
            "[ Train | 001/003 ] loss = 1.28335, acc = 0.91523\n",
            "[ Valid | 001/003 ] loss = 1.12007, acc = 0.93687\n",
            "[ Valid | 001/003 ] loss = 1.12007, acc = 0.93687 -> best\n",
            "Best model found at epoch 0, saving model\n"
          ]
        },
        {
          "output_type": "error",
          "ename": "KeyboardInterrupt",
          "evalue": "ignored",
          "traceback": [
            "\u001b[0;31m---------------------------------------------------------------------------\u001b[0m",
            "\u001b[0;31mKeyboardInterrupt\u001b[0m                         Traceback (most recent call last)",
            "\u001b[0;32m<ipython-input-23-74b2d3686625>\u001b[0m in \u001b[0;36m<module>\u001b[0;34m()\u001b[0m\n\u001b[1;32m     22\u001b[0m     \u001b[0mval_loader\u001b[0m \u001b[0;34m=\u001b[0m \u001b[0mDataLoader\u001b[0m\u001b[0;34m(\u001b[0m\u001b[0mtotal_set\u001b[0m\u001b[0;34m,\u001b[0m \u001b[0mbatch_size\u001b[0m\u001b[0;34m=\u001b[0m\u001b[0mbatch_size\u001b[0m\u001b[0;34m,\u001b[0m \u001b[0msampler\u001b[0m\u001b[0;34m=\u001b[0m\u001b[0mval_sampler\u001b[0m\u001b[0;34m)\u001b[0m\u001b[0;34m\u001b[0m\u001b[0;34m\u001b[0m\u001b[0m\n\u001b[1;32m     23\u001b[0m     \u001b[0;32mfor\u001b[0m \u001b[0mepoch\u001b[0m \u001b[0;32min\u001b[0m \u001b[0mrange\u001b[0m\u001b[0;34m(\u001b[0m\u001b[0mn_epochs\u001b[0m\u001b[0;34m)\u001b[0m\u001b[0;34m:\u001b[0m\u001b[0;34m\u001b[0m\u001b[0;34m\u001b[0m\u001b[0m\n\u001b[0;32m---> 24\u001b[0;31m         \u001b[0mtrain_loss\u001b[0m\u001b[0;34m,\u001b[0m \u001b[0mtrain_acc\u001b[0m \u001b[0;34m=\u001b[0m \u001b[0mtraining\u001b[0m\u001b[0;34m(\u001b[0m\u001b[0mmodel\u001b[0m\u001b[0;34m,\u001b[0m\u001b[0moptimizer\u001b[0m\u001b[0;34m,\u001b[0m\u001b[0mcriterion\u001b[0m\u001b[0;34m,\u001b[0m\u001b[0mtrain_loader\u001b[0m\u001b[0;34m)\u001b[0m\u001b[0;34m\u001b[0m\u001b[0;34m\u001b[0m\u001b[0m\n\u001b[0m\u001b[1;32m     25\u001b[0m \u001b[0;34m\u001b[0m\u001b[0m\n\u001b[1;32m     26\u001b[0m         \u001b[0mval_loss\u001b[0m\u001b[0;34m,\u001b[0m \u001b[0mval_acc\u001b[0m \u001b[0;34m=\u001b[0m \u001b[0mvalidation\u001b[0m\u001b[0;34m(\u001b[0m\u001b[0mmodel\u001b[0m\u001b[0;34m,\u001b[0m\u001b[0moptimizer\u001b[0m\u001b[0;34m,\u001b[0m\u001b[0mcriterion\u001b[0m\u001b[0;34m,\u001b[0m\u001b[0mval_loader\u001b[0m\u001b[0;34m)\u001b[0m\u001b[0;34m\u001b[0m\u001b[0;34m\u001b[0m\u001b[0m\n",
            "\u001b[0;32m<ipython-input-14-53021d2556e4>\u001b[0m in \u001b[0;36mtraining\u001b[0;34m(model, optimizer, criterion, dataloader)\u001b[0m\n\u001b[1;32m     22\u001b[0m         \u001b[0macc\u001b[0m \u001b[0;34m=\u001b[0m \u001b[0;34m(\u001b[0m\u001b[0mtrain_pred\u001b[0m\u001b[0;34m.\u001b[0m\u001b[0mdetach\u001b[0m\u001b[0;34m(\u001b[0m\u001b[0;34m)\u001b[0m \u001b[0;34m==\u001b[0m \u001b[0mlabels\u001b[0m\u001b[0;34m.\u001b[0m\u001b[0mdetach\u001b[0m\u001b[0;34m(\u001b[0m\u001b[0;34m)\u001b[0m\u001b[0;34m)\u001b[0m\u001b[0;34m.\u001b[0m\u001b[0mfloat\u001b[0m\u001b[0;34m(\u001b[0m\u001b[0;34m)\u001b[0m\u001b[0;34m.\u001b[0m\u001b[0mmean\u001b[0m\u001b[0;34m(\u001b[0m\u001b[0;34m)\u001b[0m\u001b[0;34m\u001b[0m\u001b[0;34m\u001b[0m\u001b[0m\n\u001b[1;32m     23\u001b[0m         \u001b[0mtrain_accs\u001b[0m\u001b[0;34m.\u001b[0m\u001b[0mappend\u001b[0m\u001b[0;34m(\u001b[0m\u001b[0macc\u001b[0m\u001b[0;34m)\u001b[0m\u001b[0;34m\u001b[0m\u001b[0;34m\u001b[0m\u001b[0m\n\u001b[0;32m---> 24\u001b[0;31m         \u001b[0mtrain_loss\u001b[0m\u001b[0;34m.\u001b[0m\u001b[0mappend\u001b[0m\u001b[0;34m(\u001b[0m\u001b[0mloss\u001b[0m\u001b[0;34m.\u001b[0m\u001b[0mitem\u001b[0m\u001b[0;34m(\u001b[0m\u001b[0;34m)\u001b[0m\u001b[0;34m)\u001b[0m\u001b[0;34m\u001b[0m\u001b[0;34m\u001b[0m\u001b[0m\n\u001b[0m\u001b[1;32m     25\u001b[0m     \u001b[0mtrain_loss\u001b[0m \u001b[0;34m=\u001b[0m \u001b[0msum\u001b[0m\u001b[0;34m(\u001b[0m\u001b[0mtrain_loss\u001b[0m\u001b[0;34m)\u001b[0m \u001b[0;34m/\u001b[0m \u001b[0mlen\u001b[0m\u001b[0;34m(\u001b[0m\u001b[0mtrain_loss\u001b[0m\u001b[0;34m)\u001b[0m\u001b[0;34m\u001b[0m\u001b[0;34m\u001b[0m\u001b[0m\n\u001b[1;32m     26\u001b[0m     \u001b[0mtrain_acc\u001b[0m \u001b[0;34m=\u001b[0m \u001b[0msum\u001b[0m\u001b[0;34m(\u001b[0m\u001b[0mtrain_accs\u001b[0m\u001b[0;34m)\u001b[0m \u001b[0;34m/\u001b[0m \u001b[0mlen\u001b[0m\u001b[0;34m(\u001b[0m\u001b[0mtrain_accs\u001b[0m\u001b[0;34m)\u001b[0m\u001b[0;34m\u001b[0m\u001b[0;34m\u001b[0m\u001b[0m\n",
            "\u001b[0;31mKeyboardInterrupt\u001b[0m: "
          ]
        }
      ]
    },
    {
      "cell_type": "code",
      "source": [
        "testl_f,tl_f,testa_f,ta_f=[],[],[],[]\n",
        "k=3\n",
        "for f in range(1,k+1):\n",
        "\n",
        "     tl_f.append(np.mean(foldperf['fold{}'.format(f)]['train_loss']))\n",
        "     testl_f.append(np.mean(foldperf['fold{}'.format(f)]['val_loss']))\n",
        "\n",
        "     ta_f.append(np.mean(foldperf['fold{}'.format(f)]['train_acc']))\n",
        "     testa_f.append(np.mean(foldperf['fold{}'.format(f)]['val_acc']))\n",
        "\n",
        "print('Performance of {} fold cross validation'.format(k))\n",
        "print(\"Average Training Loss: {:.3f} \\t Average Test Loss: {:.3f} \\t Average Training Acc: {:.2f} \\t Average Test Acc: {:.2f}\".format(np.mean(tl_f),np.mean(testl_f),np.mean(ta_f),np.mean(testa_f)))"
      ],
      "metadata": {
        "colab": {
          "base_uri": "https://localhost:8080/"
        },
        "id": "oxb7mUPBkBxU",
        "outputId": "6e98184f-0c12-434e-9d13-509d55e1d608"
      },
      "execution_count": 24,
      "outputs": [
        {
          "output_type": "stream",
          "name": "stdout",
          "text": [
            "Performance of 3 fold cross validation\n",
            "Average Training Loss: 1.278 \t Average Test Loss: 1.122 \t Average Training Acc: 0.92 \t Average Test Acc: 0.94\n"
          ]
        }
      ]
    },
    {
      "cell_type": "code",
      "source": [
        "model1 = MyRNN(input_dim,hidden_dim,hidden_layers).to(device)\n",
        "model2 = MyRNN(input_dim,hidden_dim,hidden_layers).to(device)\n",
        "model3 = MyRNN(input_dim,hidden_dim,hidden_layers).to(device)\n",
        "model4 = MyRNN(input_dim,hidden_dim,hidden_layers).to(device)\n",
        "model5 = MyRNN(input_dim,hidden_dim,hidden_layers).to(device)\n",
        "model1.load_state_dict(torch.load(f\"/content/drive/MyDrive/ML/HW2/{_exp_name}_Fold1_best.ckpt\"))\n",
        "model2.load_state_dict(torch.load(f\"/content/drive/MyDrive/ML/HW2/{_exp_name}_Fold2_best.ckpt\"))\n",
        "model3.load_state_dict(torch.load(f\"/content/drive/MyDrive/ML/HW2/{_exp_name}_Fold3_best.ckpt\"))\n",
        "model4.load_state_dict(torch.load(f\"/content/drive/MyDrive/ML/HW2/{_exp_name}_Fold4_best.ckpt\"))\n",
        "model5.load_state_dict(torch.load(f\"/content/drive/MyDrive/ML/HW2/{_exp_name}_Fold5_best.ckpt\"))"
      ],
      "metadata": {
        "colab": {
          "base_uri": "https://localhost:8080/"
        },
        "id": "YDA0K0r7kDO8",
        "outputId": "b3bab5d2-77f0-41c7-caa6-3767a9d0714b"
      },
      "execution_count": 25,
      "outputs": [
        {
          "output_type": "execute_result",
          "data": {
            "text/plain": [
              "<All keys matched successfully>"
            ]
          },
          "metadata": {},
          "execution_count": 25
        }
      ]
    },
    {
      "cell_type": "code",
      "execution_count": 26,
      "metadata": {
        "id": "84HU5GGjPqR0"
      },
      "outputs": [],
      "source": [
        "test_acc = 0.0\n",
        "test_lengths = 0\n",
        "pred = np.array([], dtype=np.int32)\n",
        "\n",
        "model1.eval()\n",
        "model2.eval()\n",
        "model3.eval()\n",
        "model4.eval()\n",
        "model5.eval()\n",
        "with torch.no_grad():\n",
        "    for i, batch in enumerate(test_loader):\n",
        "        features = batch\n",
        "        features = features.to(device)\n",
        "\n",
        "        outputs1 = model1(features)\n",
        "        outputs2 = model2(features)\n",
        "        outputs3 = model3(features)\n",
        "        outputs4 = model4(features)\n",
        "        outputs5 = model5(features)\n",
        "        outputs = (outputs1+outputs2+outputs3+outputs4+outputs5)/5\n",
        "        _, test_pred = torch.max(outputs, 1) # get the index of the class with the highest probability\n",
        "        pred = np.concatenate((pred, test_pred.cpu().numpy()), axis=0)\n"
      ]
    },
    {
      "cell_type": "markdown",
      "metadata": {
        "id": "wyZqy40Prz0v"
      },
      "source": [
        "Write prediction to a CSV file.\n",
        "\n",
        "After finish running this block, download the file `prediction.csv` from the files section on the left-hand side and submit it to Kaggle."
      ]
    },
    {
      "cell_type": "code",
      "execution_count": 27,
      "metadata": {
        "id": "GuljYSPHcZir"
      },
      "outputs": [],
      "source": [
        "with open('/content/drive/MyDrive/ML/HW2/prediction.csv', 'w') as f:\n",
        "    f.write('Id,Class\\n')\n",
        "    for i, y in enumerate(pred):\n",
        "        f.write('{},{}\\n'.format(i, y))"
      ]
    },
    {
      "cell_type": "code",
      "source": [
        "# best test acc = 0.82350\n",
        "# 10 epochs for the first stage of training to get the fairly good model\n",
        "# trained on full dataset (training and validation)\n",
        "# using GRU, 5 hidden layers, seq_len = 45, dropout=0.5 hidden_dim = 750, batch_size = 128\n",
        "# fc block, 2 layers with leakyReLU and batchnorm and dropout(0.5) (in,64)->(64,41) \n",
        "# AdamW, lr = 0.00001, weight_decay=0.001, scheduler: according to val_loss, patience=1\n",
        "# Second stage: 5-fold cross validation to create 5 different models, then ensemble the predictions to get the final result"
      ],
      "metadata": {
        "id": "imidQsoZ4i03"
      },
      "execution_count": null,
      "outputs": []
    }
  ],
  "metadata": {
    "accelerator": "GPU",
    "colab": {
      "collapsed_sections": [],
      "name": "ML_HW2",
      "provenance": [],
      "machine_shape": "hm"
    },
    "kernelspec": {
      "display_name": "Python 3",
      "name": "python3"
    }
  },
  "nbformat": 4,
  "nbformat_minor": 0
}